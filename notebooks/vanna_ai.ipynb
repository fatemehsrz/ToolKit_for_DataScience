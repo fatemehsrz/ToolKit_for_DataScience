{
 "cells": [
  {
   "cell_type": "code",
   "execution_count": 10,
   "metadata": {},
   "outputs": [
    {
     "name": "stdout",
     "output_type": "stream",
     "text": [
      "The square of 5 is 25\n",
      "The cube of 7 is 343\n"
     ]
    }
   ],
   "source": [
    "from functools import *\n",
    "\n",
    "def power(exponent, base):\n",
    "    return base ** exponent\n",
    " \n",
    "square = partial(power, 2) # setting value of exponent to 2\n",
    "cube = partial(power, 3) # setting value of exponent to 3\n",
    "\n",
    "print(\"The square of 5 is\", square(5))\n",
    "print(\"The cube of 7 is\", cube(7))"
   ]
  },
  {
   "cell_type": "code",
   "execution_count": 12,
   "metadata": {},
   "outputs": [
    {
     "name": "stdout",
     "output_type": "stream",
     "text": [
      "Sourish, Welcome to the Team!\n",
      "Shubhrima, Happy Holidays!\n"
     ]
    }
   ],
   "source": [
    "from functools import *\n",
    "\n",
    "def print_msg(name, message):\n",
    "    msg = str(name) +\", \"+ str(message)\n",
    "    return msg\n",
    "\n",
    "welcome = partial(print_msg, message='Welcome to the Team!') #setting the welcome message\n",
    "holidays = partial(print_msg, message='Happy Holidays!')\n",
    "\n",
    "print(welcome('Sourish'))\n",
    "print(holidays('Shubhrima'))"
   ]
  },
  {
   "cell_type": "code",
   "execution_count": null,
   "metadata": {},
   "outputs": [],
   "source": []
  }
 ],
 "metadata": {
  "kernelspec": {
   "display_name": ".venv",
   "language": "python",
   "name": "python3"
  },
  "language_info": {
   "codemirror_mode": {
    "name": "ipython",
    "version": 3
   },
   "file_extension": ".py",
   "mimetype": "text/x-python",
   "name": "python",
   "nbconvert_exporter": "python",
   "pygments_lexer": "ipython3",
   "version": "3.11.9"
  }
 },
 "nbformat": 4,
 "nbformat_minor": 2
}

from scipy.stats import probplot, skew

# Loop through each numeric column
for column in numeric_columns:
    fig, axes = plt.subplots(1, 3, figsize=(20, 4))

    # Distribution plot
    sns.histplot(df_user[column], kde=False, ax=axes[0])
    axes[0].set_title(f"{column} | Distribution Plot")

    # Boxplot
    sns.boxplot(df_user[column], ax=axes[1])
    axes[1].set_title(f"{column} | Boxplot")
    axes[1].set_yticklabels([])
    axes[1].set_yticks([])

    # Probability plot
    probplot(df_user[column], plot=axes[2])
    skew_val = round(df_user[column].skew(), 1)
    axes[2].set_title(f"{column} | Probability Plot - Skew: {skew_val}")

    # Display the plots
    plt.show()
