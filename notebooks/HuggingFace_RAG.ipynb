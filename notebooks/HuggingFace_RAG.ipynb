{
  "cells": [
    {
      "cell_type": "code",
      "execution_count": 1,
      "metadata": {
        "id": "ZbY8g0d2wffI",
        "colab": {
          "base_uri": "https://localhost:8080/"
        },
        "outputId": "21c1d526-9796-484a-b93b-04c8c1425f4b"
      },
      "outputs": [
        {
          "output_type": "stream",
          "name": "stdout",
          "text": [
            "\u001b[2K   \u001b[90m━━━━━━━━━━━━━━━━━━━━━━━━━━━━━━━━━━━━━━━━\u001b[0m \u001b[32m302.3/302.3 kB\u001b[0m \u001b[31m7.3 MB/s\u001b[0m eta \u001b[36m0:00:00\u001b[0m\n",
            "\u001b[2K   \u001b[90m━━━━━━━━━━━━━━━━━━━━━━━━━━━━━━━━━━━━━━━━\u001b[0m \u001b[32m2.5/2.5 MB\u001b[0m \u001b[31m15.7 MB/s\u001b[0m eta \u001b[36m0:00:00\u001b[0m\n",
            "\u001b[2K   \u001b[90m━━━━━━━━━━━━━━━━━━━━━━━━━━━━━━━━━━━━━━━━\u001b[0m \u001b[32m481.4/481.4 kB\u001b[0m \u001b[31m9.6 MB/s\u001b[0m eta \u001b[36m0:00:00\u001b[0m\n",
            "\u001b[2K   \u001b[90m━━━━━━━━━━━━━━━━━━━━━━━━━━━━━━━━━━━━━━━━\u001b[0m \u001b[32m50.9/50.9 kB\u001b[0m \u001b[31m2.2 MB/s\u001b[0m eta \u001b[36m0:00:00\u001b[0m\n",
            "\u001b[?25h"
          ]
        }
      ],
      "source": [
        "%pip install --upgrade --quiet pypdf langchain_community langchain  huggingface_hub"
      ]
    },
    {
      "cell_type": "code",
      "execution_count": 2,
      "metadata": {
        "id": "zAUL5hOV0eAX",
        "colab": {
          "base_uri": "https://localhost:8080/"
        },
        "outputId": "ec21a6dd-147a-4e98-be13-c8e67ce7ca36"
      },
      "outputs": [
        {
          "output_type": "stream",
          "name": "stdout",
          "text": [
            "\u001b[2K   \u001b[90m━━━━━━━━━━━━━━━━━━━━━━━━━━━━━━━━━━━━━━━━\u001b[0m \u001b[32m363.4/363.4 MB\u001b[0m \u001b[31m3.1 MB/s\u001b[0m eta \u001b[36m0:00:00\u001b[0m\n",
            "\u001b[2K   \u001b[90m━━━━━━━━━━━━━━━━━━━━━━━━━━━━━━━━━━━━━━━━\u001b[0m \u001b[32m13.8/13.8 MB\u001b[0m \u001b[31m62.7 MB/s\u001b[0m eta \u001b[36m0:00:00\u001b[0m\n",
            "\u001b[2K   \u001b[90m━━━━━━━━━━━━━━━━━━━━━━━━━━━━━━━━━━━━━━━━\u001b[0m \u001b[32m24.6/24.6 MB\u001b[0m \u001b[31m45.6 MB/s\u001b[0m eta \u001b[36m0:00:00\u001b[0m\n",
            "\u001b[2K   \u001b[90m━━━━━━━━━━━━━━━━━━━━━━━━━━━━━━━━━━━━━━━━\u001b[0m \u001b[32m883.7/883.7 kB\u001b[0m \u001b[31m39.2 MB/s\u001b[0m eta \u001b[36m0:00:00\u001b[0m\n",
            "\u001b[2K   \u001b[90m━━━━━━━━━━━━━━━━━━━━━━━━━━━━━━━━━━━━━━━\u001b[0m \u001b[32m664.8/664.8 MB\u001b[0m \u001b[31m862.6 kB/s\u001b[0m eta \u001b[36m0:00:00\u001b[0m\n",
            "\u001b[2K   \u001b[90m━━━━━━━━━━━━━━━━━━━━━━━━━━━━━━━━━━━━━━━━\u001b[0m \u001b[32m211.5/211.5 MB\u001b[0m \u001b[31m6.2 MB/s\u001b[0m eta \u001b[36m0:00:00\u001b[0m\n",
            "\u001b[2K   \u001b[90m━━━━━━━━━━━━━━━━━━━━━━━━━━━━━━━━━━━━━━━━\u001b[0m \u001b[32m56.3/56.3 MB\u001b[0m \u001b[31m12.0 MB/s\u001b[0m eta \u001b[36m0:00:00\u001b[0m\n",
            "\u001b[2K   \u001b[90m━━━━━━━━━━━━━━━━━━━━━━━━━━━━━━━━━━━━━━━━\u001b[0m \u001b[32m127.9/127.9 MB\u001b[0m \u001b[31m7.4 MB/s\u001b[0m eta \u001b[36m0:00:00\u001b[0m\n",
            "\u001b[2K   \u001b[90m━━━━━━━━━━━━━━━━━━━━━━━━━━━━━━━━━━━━━━━━\u001b[0m \u001b[32m207.5/207.5 MB\u001b[0m \u001b[31m6.8 MB/s\u001b[0m eta \u001b[36m0:00:00\u001b[0m\n",
            "\u001b[2K   \u001b[90m━━━━━━━━━━━━━━━━━━━━━━━━━━━━━━━━━━━━━━━━\u001b[0m \u001b[32m21.1/21.1 MB\u001b[0m \u001b[31m57.7 MB/s\u001b[0m eta \u001b[36m0:00:00\u001b[0m\n",
            "\u001b[2K   \u001b[90m━━━━━━━━━━━━━━━━━━━━━━━━━━━━━━━━━━━━━━━━\u001b[0m \u001b[32m30.7/30.7 MB\u001b[0m \u001b[31m57.5 MB/s\u001b[0m eta \u001b[36m0:00:00\u001b[0m\n",
            "\u001b[?25h"
          ]
        }
      ],
      "source": [
        "%pip install -qU  langchain-huggingface torch langchain-ollama faiss-cpu bs4"
      ]
    },
    {
      "cell_type": "code",
      "execution_count": 3,
      "metadata": {
        "id": "fGSKyix0QIcs",
        "colab": {
          "base_uri": "https://localhost:8080/"
        },
        "outputId": "a3d86f1c-5ed0-428c-c4c3-a7ba22a7d639"
      },
      "outputs": [
        {
          "output_type": "stream",
          "name": "stdout",
          "text": [
            "\u001b[?25l   \u001b[90m━━━━━━━━━━━━━━━━━━━━━━━━━━━━━━━━━━━━━━━━\u001b[0m \u001b[32m0.0/10.4 MB\u001b[0m \u001b[31m?\u001b[0m eta \u001b[36m-:--:--\u001b[0m\r\u001b[2K   \u001b[91m━\u001b[0m\u001b[91m╸\u001b[0m\u001b[90m━━━━━━━━━━━━━━━━━━━━━━━━━━━━━━━━━━━━━━\u001b[0m \u001b[32m0.5/10.4 MB\u001b[0m \u001b[31m15.3 MB/s\u001b[0m eta \u001b[36m0:00:01\u001b[0m\r\u001b[2K   \u001b[91m━━━━━━━━━━━━━\u001b[0m\u001b[90m╺\u001b[0m\u001b[90m━━━━━━━━━━━━━━━━━━━━━━━━━━\u001b[0m \u001b[32m3.4/10.4 MB\u001b[0m \u001b[31m49.2 MB/s\u001b[0m eta \u001b[36m0:00:01\u001b[0m\r\u001b[2K   \u001b[91m━━━━━━━━━━━━━━━━━━━━━━━━━━━━━━━━━━━━━\u001b[0m\u001b[90m╺\u001b[0m\u001b[90m━━\u001b[0m \u001b[32m9.6/10.4 MB\u001b[0m \u001b[31m91.5 MB/s\u001b[0m eta \u001b[36m0:00:01\u001b[0m\r\u001b[2K   \u001b[91m━━━━━━━━━━━━━━━━━━━━━━━━━━━━━━━━━━━━━━━\u001b[0m\u001b[91m╸\u001b[0m \u001b[32m10.4/10.4 MB\u001b[0m \u001b[31m103.5 MB/s\u001b[0m eta \u001b[36m0:00:01\u001b[0m\r\u001b[2K   \u001b[90m━━━━━━━━━━━━━━━━━━━━━━━━━━━━━━━━━━━━━━━━\u001b[0m \u001b[32m10.4/10.4 MB\u001b[0m \u001b[31m72.2 MB/s\u001b[0m eta \u001b[36m0:00:00\u001b[0m\n",
            "\u001b[?25h"
          ]
        }
      ],
      "source": [
        "%pip install -qU transformers"
      ]
    },
    {
      "cell_type": "code",
      "execution_count": 4,
      "metadata": {
        "id": "8EFXHfAEiWpO",
        "colab": {
          "base_uri": "https://localhost:8080/"
        },
        "outputId": "75b99a04-2571-4934-e9e8-35fdb96c2643"
      },
      "outputs": [
        {
          "output_type": "stream",
          "name": "stdout",
          "text": [
            "\u001b[?25l     \u001b[90m━━━━━━━━━━━━━━━━━━━━━━━━━━━━━━━━━━━━━━━━\u001b[0m \u001b[32m0.0/67.3 kB\u001b[0m \u001b[31m?\u001b[0m eta \u001b[36m-:--:--\u001b[0m\r\u001b[2K     \u001b[90m━━━━━━━━━━━━━━━━━━━━━━━━━━━━━━━━━━━━━━━━\u001b[0m \u001b[32m67.3/67.3 kB\u001b[0m \u001b[31m3.2 MB/s\u001b[0m eta \u001b[36m0:00:00\u001b[0m\n",
            "\u001b[?25h  Installing build dependencies ... \u001b[?25l\u001b[?25hdone\n",
            "  Getting requirements to build wheel ... \u001b[?25l\u001b[?25hdone\n",
            "  Preparing metadata (pyproject.toml) ... \u001b[?25l\u001b[?25hdone\n",
            "\u001b[2K   \u001b[90m━━━━━━━━━━━━━━━━━━━━━━━━━━━━━━━━━━━━━━━━\u001b[0m \u001b[32m18.3/18.3 MB\u001b[0m \u001b[31m27.5 MB/s\u001b[0m eta \u001b[36m0:00:00\u001b[0m\n",
            "\u001b[2K   \u001b[90m━━━━━━━━━━━━━━━━━━━━━━━━━━━━━━━━━━━━━━━━\u001b[0m \u001b[32m2.4/2.4 MB\u001b[0m \u001b[31m29.2 MB/s\u001b[0m eta \u001b[36m0:00:00\u001b[0m\n",
            "\u001b[2K   \u001b[90m━━━━━━━━━━━━━━━━━━━━━━━━━━━━━━━━━━━━━━━━\u001b[0m \u001b[32m94.9/94.9 kB\u001b[0m \u001b[31m4.2 MB/s\u001b[0m eta \u001b[36m0:00:00\u001b[0m\n",
            "\u001b[2K   \u001b[90m━━━━━━━━━━━━━━━━━━━━━━━━━━━━━━━━━━━━━━━━\u001b[0m \u001b[32m340.6/340.6 kB\u001b[0m \u001b[31m13.8 MB/s\u001b[0m eta \u001b[36m0:00:00\u001b[0m\n",
            "\u001b[2K   \u001b[90m━━━━━━━━━━━━━━━━━━━━━━━━━━━━━━━━━━━━━━━━\u001b[0m \u001b[32m284.2/284.2 kB\u001b[0m \u001b[31m8.3 MB/s\u001b[0m eta \u001b[36m0:00:00\u001b[0m\n",
            "\u001b[2K   \u001b[90m━━━━━━━━━━━━━━━━━━━━━━━━━━━━━━━━━━━━━━━━\u001b[0m \u001b[32m2.0/2.0 MB\u001b[0m \u001b[31m39.5 MB/s\u001b[0m eta \u001b[36m0:00:00\u001b[0m\n",
            "\u001b[2K   \u001b[90m━━━━━━━━━━━━━━━━━━━━━━━━━━━━━━━━━━━━━━━━\u001b[0m \u001b[32m101.6/101.6 kB\u001b[0m \u001b[31m4.7 MB/s\u001b[0m eta \u001b[36m0:00:00\u001b[0m\n",
            "\u001b[2K   \u001b[90m━━━━━━━━━━━━━━━━━━━━━━━━━━━━━━━━━━━━━━━━\u001b[0m \u001b[32m16.0/16.0 MB\u001b[0m \u001b[31m42.5 MB/s\u001b[0m eta \u001b[36m0:00:00\u001b[0m\n",
            "\u001b[2K   \u001b[90m━━━━━━━━━━━━━━━━━━━━━━━━━━━━━━━━━━━━━━━━\u001b[0m \u001b[32m55.9/55.9 kB\u001b[0m \u001b[31m3.4 MB/s\u001b[0m eta \u001b[36m0:00:00\u001b[0m\n",
            "\u001b[2K   \u001b[90m━━━━━━━━━━━━━━━━━━━━━━━━━━━━━━━━━━━━━━━━\u001b[0m \u001b[32m188.4/188.4 kB\u001b[0m \u001b[31m10.7 MB/s\u001b[0m eta \u001b[36m0:00:00\u001b[0m\n",
            "\u001b[2K   \u001b[90m━━━━━━━━━━━━━━━━━━━━━━━━━━━━━━━━━━━━━━━━\u001b[0m \u001b[32m65.3/65.3 kB\u001b[0m \u001b[31m3.9 MB/s\u001b[0m eta \u001b[36m0:00:00\u001b[0m\n",
            "\u001b[2K   \u001b[90m━━━━━━━━━━━━━━━━━━━━━━━━━━━━━━━━━━━━━━━━\u001b[0m \u001b[32m119.0/119.0 kB\u001b[0m \u001b[31m7.7 MB/s\u001b[0m eta \u001b[36m0:00:00\u001b[0m\n",
            "\u001b[2K   \u001b[90m━━━━━━━━━━━━━━━━━━━━━━━━━━━━━━━━━━━━━━━━\u001b[0m \u001b[32m85.2/85.2 kB\u001b[0m \u001b[31m5.7 MB/s\u001b[0m eta \u001b[36m0:00:00\u001b[0m\n",
            "\u001b[2K   \u001b[90m━━━━━━━━━━━━━━━━━━━━━━━━━━━━━━━━━━━━━━━━\u001b[0m \u001b[32m62.3/62.3 kB\u001b[0m \u001b[31m3.7 MB/s\u001b[0m eta \u001b[36m0:00:00\u001b[0m\n",
            "\u001b[2K   \u001b[90m━━━━━━━━━━━━━━━━━━━━━━━━━━━━━━━━━━━━━━━━\u001b[0m \u001b[32m459.8/459.8 kB\u001b[0m \u001b[31m24.0 MB/s\u001b[0m eta \u001b[36m0:00:00\u001b[0m\n",
            "\u001b[2K   \u001b[90m━━━━━━━━━━━━━━━━━━━━━━━━━━━━━━━━━━━━━━━━\u001b[0m \u001b[32m71.5/71.5 kB\u001b[0m \u001b[31m2.1 MB/s\u001b[0m eta \u001b[36m0:00:00\u001b[0m\n",
            "\u001b[2K   \u001b[90m━━━━━━━━━━━━━━━━━━━━━━━━━━━━━━━━━━━━━━━━\u001b[0m \u001b[32m4.0/4.0 MB\u001b[0m \u001b[31m25.7 MB/s\u001b[0m eta \u001b[36m0:00:00\u001b[0m\n",
            "\u001b[2K   \u001b[90m━━━━━━━━━━━━━━━━━━━━━━━━━━━━━━━━━━━━━━━━\u001b[0m \u001b[32m454.8/454.8 kB\u001b[0m \u001b[31m22.0 MB/s\u001b[0m eta \u001b[36m0:00:00\u001b[0m\n",
            "\u001b[2K   \u001b[90m━━━━━━━━━━━━━━━━━━━━━━━━━━━━━━━━━━━━━━━━\u001b[0m \u001b[32m46.0/46.0 kB\u001b[0m \u001b[31m1.7 MB/s\u001b[0m eta \u001b[36m0:00:00\u001b[0m\n",
            "\u001b[2K   \u001b[90m━━━━━━━━━━━━━━━━━━━━━━━━━━━━━━━━━━━━━━━━\u001b[0m \u001b[32m86.8/86.8 kB\u001b[0m \u001b[31m3.7 MB/s\u001b[0m eta \u001b[36m0:00:00\u001b[0m\n",
            "\u001b[?25h  Building wheel for pypika (pyproject.toml) ... \u001b[?25l\u001b[?25hdone\n"
          ]
        }
      ],
      "source": [
        "%pip install --upgrade --quiet chromadb sentence-transformers"
      ]
    },
    {
      "cell_type": "code",
      "execution_count": 5,
      "metadata": {
        "colab": {
          "base_uri": "https://localhost:8080/"
        },
        "id": "86iKTAsksAH1",
        "outputId": "e66e9266-c236-474d-a38c-fa227bb4e5e4"
      },
      "outputs": [
        {
          "output_type": "stream",
          "name": "stderr",
          "text": [
            "WARNING:langchain_community.utils.user_agent:USER_AGENT environment variable not set, consider setting it to identify your requests.\n"
          ]
        }
      ],
      "source": [
        "from langchain.document_loaders import WebBaseLoader\n",
        "from langchain.text_splitter import RecursiveCharacterTextSplitter\n",
        "\n",
        "loader = WebBaseLoader(\"https://kids.nationalgeographic.com/geography/countries/article/iran\")\n",
        "docs = loader.load()\n",
        "text_splitter = RecursiveCharacterTextSplitter(chunk_size=1000, chunk_overlap=200)\n",
        "splits = text_splitter.split_documents(docs)"
      ]
    },
    {
      "cell_type": "code",
      "execution_count": 29,
      "metadata": {
        "colab": {
          "base_uri": "https://localhost:8080/"
        },
        "id": "wP3sRxQRsDmN",
        "outputId": "61b8e8e4-b80a-4c61-cbc9-518e5c3c3346"
      },
      "outputs": [
        {
          "output_type": "execute_result",
          "data": {
            "text/plain": [
              "['d9e0fc32-7706-407b-8976-2f21659e01be',\n",
              " '06c848ec-c188-4023-a836-9b21c93cd1ed',\n",
              " 'c2abeb9c-cd3f-4d12-9ee4-2262a14208f8',\n",
              " 'c36fb225-4f06-4d59-93bc-69c2d05823d1',\n",
              " '427ebbde-2467-4098-9bd6-6670b1f0d61e',\n",
              " 'bf1d7195-ec53-4fb3-80bc-b6ebe985ae2a',\n",
              " '12919b3c-fea7-41ca-9dd2-316ee53a8a57',\n",
              " '762af46a-446d-4162-acc2-89c69f639e60',\n",
              " '9de6a45a-d364-481c-843b-ba1ce3e845f1']"
            ]
          },
          "metadata": {},
          "execution_count": 29
        }
      ],
      "source": [
        "from langchain.vectorstores import Chroma\n",
        "from langchain_community.embeddings import HuggingFaceBgeEmbeddings\n",
        "from uuid import uuid4\n",
        "import faiss\n",
        "from langchain_community.docstore.in_memory import InMemoryDocstore\n",
        "from langchain_community.vectorstores import FAISS\n",
        "\n",
        "embeddings = HuggingFaceBgeEmbeddings(model_name=\"all-MiniLM-L6-v2\", model_kwargs = {'trust_remote_code': True}, encode_kwargs= {'normalize_embeddings': True}, query_instruction='')\n",
        "\n",
        "index = faiss.IndexFlatL2(len(embeddings.embed_query(\"hello world\")))\n",
        "\n",
        "vector_store = FAISS(\n",
        "    embedding_function=embeddings,\n",
        "    docstore=InMemoryDocstore(),\n",
        "    index=index,\n",
        "    index_to_docstore_id={},\n",
        ")\n",
        "\n",
        "uuids = [str(uuid4()) for _ in range(len(splits))]\n",
        "\n",
        "vector_store.add_documents(documents=splits, ids=uuids)\n"
      ]
    },
    {
      "cell_type": "code",
      "execution_count": 8,
      "metadata": {
        "id": "PQVt29KM5DuY",
        "colab": {
          "base_uri": "https://localhost:8080/",
          "height": 17,
          "referenced_widgets": [
            "ddea40c97b654c57a50d8e0c39e5bbe3",
            "024b34e4d20d4e19b8a7e715e79d1fe7",
            "d96f9b9540c642d19941302df1ac1077",
            "81aa88d89101450487ad3ebd2db38a97",
            "7f0c47bcd2d340a99f59cb1cbe0112bd",
            "3bd7dd509ee4473c9a271294c6ed627a",
            "fa4de155828349499275deb5a564548d",
            "86a58e05193949e4ab2b314d65b792df",
            "631217c36ac54cf796703d93276918eb",
            "de882295500d4b16bb35e73914ae9942",
            "956ea0f9fa0b4e9cafc4c716028c7685",
            "89180c5b731c4d4ea21f138b42cdb991",
            "02223e4f32c444918031660e3688e403",
            "99c63cf69e4a406082c03417021a96e7",
            "759d9a0cd54b4bdb88bf6096fdd392d4",
            "a670dfe8d24f4a3c8c16c71e100258ab",
            "50b3bb30c9304c1a8c8545f26300bac2",
            "7f48f21233374118a3d072f29f7a4ade",
            "51732cfbe8984646a388c1cff052abdd",
            "81ce7ee3c83a447c8f65d9a796364f26"
          ]
        },
        "outputId": "a54cc2fc-f9f7-4813-9861-b7932feee6f5"
      },
      "outputs": [
        {
          "output_type": "display_data",
          "data": {
            "text/plain": [
              "VBox(children=(HTML(value='<center> <img\\nsrc=https://huggingface.co/front/assets/huggingface_logo-noborder.sv…"
            ],
            "application/vnd.jupyter.widget-view+json": {
              "version_major": 2,
              "version_minor": 0,
              "model_id": "ddea40c97b654c57a50d8e0c39e5bbe3"
            }
          },
          "metadata": {}
        }
      ],
      "source": [
        "from huggingface_hub import login\n",
        "login()"
      ]
    },
    {
      "cell_type": "code",
      "execution_count": 44,
      "metadata": {
        "id": "LMcwwP4K0Sfb",
        "colab": {
          "base_uri": "https://localhost:8080/"
        },
        "outputId": "357f7fb4-6b32-43c3-bf5e-83e93ae7ef26"
      },
      "outputs": [
        {
          "output_type": "stream",
          "name": "stderr",
          "text": [
            "Device set to use cpu\n"
          ]
        }
      ],
      "source": [
        "from langchain_huggingface import HuggingFacePipeline\n",
        "from langchain.prompts import PromptTemplate\n",
        "from transformers import pipeline\n",
        "from langchain_core.output_parsers import StrOutputParser\n",
        "import torch\n",
        "from transformers import AutoModelForCausalLM, AutoTokenizer\n",
        "\n",
        "#model_id = \"meta-llama/Meta-Llama-3-8B\"\n",
        "#text_generation_pipeline = pipeline(\n",
        "    #\"text-generation\", model=model_id, model_kwargs={\"torch_dtype\": torch.bfloat16}, max_new_tokens=400, device=0)\n",
        "pipe = pipeline(\"text-generation\", model=\"meta-llama/Llama-3.2-1B\")  #meta-llama/Llama-3.1-8B-evals  meta-llama/Meta-Llama-3-8B\n",
        "\n",
        "llm = HuggingFacePipeline(pipeline=pipe)\n",
        "\n",
        "prompt_template = \"\"\"\n",
        "<|system|>\n",
        "Answer the question based on your knowledge. Use the following context to help:\n",
        "\n",
        "{context}\n",
        "\n",
        "</s>\n",
        "<|user|>\n",
        "{question}\n",
        "</s>\n",
        "<|assistant|>\n",
        "\n",
        " \"\"\"\n",
        "\n",
        "prompt = PromptTemplate(\n",
        "    input_variables=[\"context\", \"question\"],\n",
        "    template=prompt_template,\n",
        ")\n",
        "\n",
        "llm_chain = prompt | llm | StrOutputParser()"
      ]
    },
    {
      "cell_type": "code",
      "execution_count": 45,
      "metadata": {
        "id": "EGhwMNUUWR7Z",
        "colab": {
          "base_uri": "https://localhost:8080/",
          "height": 139
        },
        "outputId": "c6fdd0fd-f633-4db4-895f-cdc53eab9a67"
      },
      "outputs": [
        {
          "output_type": "stream",
          "name": "stderr",
          "text": [
            "Setting `pad_token_id` to `eos_token_id`:128001 for open-end generation.\n"
          ]
        },
        {
          "output_type": "execute_result",
          "data": {
            "text/plain": [
              "'\\n<|system|>\\nAnswer the question based on your knowledge. Use the following context to help:\\n\\n[Document(id=\\'427ebbde-2467-4098-9bd6-6670b1f0d61e\\', metadata={\\'source\\': \\'https://kids.nationalgeographic.com/geography/countries/article/iran\\', \\'title\\': \\'Iran Country Profile - National Geographic Kids\\', \\'description\\': \\'Iran (pronounced ee-RAHN), formerly known as Persia, is situated at the crossroads of Central Asia, South Asia, and the Arab states of the Middle East.\\', \\'language\\': \\'en\\'}, page_content=\\'of scholarship that has created a rich culture of art, literature, poetry, music, cuisine, and architecture. Ancient Iranian thinkers wrote influential texts on philosophy and medicine, and it was an Iranian mathematician who invented algebra. Iran\\\\\\'s universities are among the most respected in the Middle East.NATURENot long ago, Iran was home to many lions, tigers, and other big cats. Unfortunately these sleek hunters are now very rare, and some species have gone extinct. Only a handful of Asiatic cheetahs and Persian leopards remain.Iran has several reserves and parks where wildlife thrives. One, called Kavir National Park, is located in the north-central region and is known as \"Little Africa\" because its plants and animals resemble those of Africa. This park is home to Iran\\\\\\'s only cheetahs.Iran\\\\\\'s mountains in the north and west have dense forests that offer habitat for brown bears, wild goats, wolves, and leopards. The country\\\\\\'s central plateau is home to deer, gazelles, hyenas,\\'), Document(id=\\'d9e0fc32-7706-407b-8976-2f21659e01be\\', metadata={\\'source\\': \\'https://kids.nationalgeographic.com/geography/countries/article/iran\\', \\'title\\': \\'Iran Country Profile - National Geographic Kids\\', \\'description\\': \\'Iran (pronounced ee-RAHN), formerly known as Persia, is situated at the crossroads of Central Asia, South Asia, and the Arab states of the Middle East.\\', \\'language\\': \\'en\\'}, page_content=\\'Iran Country Profile - National Geographic Kids\\'), Document(id=\\'c36fb225-4f06-4d59-93bc-69c2d05823d1\\', metadata={\\'source\\': \\'https://kids.nationalgeographic.com/geography/countries/article/iran\\', \\'title\\': \\'Iran Country Profile - National Geographic Kids\\', \\'description\\': \\'Iran (pronounced ee-RAHN), formerly known as Persia, is situated at the crossroads of Central Asia, South Asia, and the Arab states of the Middle East.\\', \\'language\\': \\'en\\'}, page_content=\"world by a beautiful but often lonely landscape. High, rugged mountains create a barrier with Iran\\'s neighbors in the west, and the eastern region is covered by a barren, salty desert.In Iran\\'s north, a narrow, fertile strip borders the Caspian Sea, and in the south, lowlands rim the Persian Gulf and the Gulf of Oman. Most people in Iran live along the edges of a high plateau that runs through the middle of the country.Map created by National Geographic MapsTehran is the capital of Iran.Photograph by Suronin, DreamstimePlease be respectful of copyright. Unauthorized use is prohibited.PEOPLE & CULTUREStrong religious beliefs have been part of Iranians\\' lives for thousands of years. Almost all Iranians are Muslim, or followers of Islam. The religion is central to daily life.Iran has a long history of scholarship that has created a rich culture of art, literature, poetry, music, cuisine, and architecture. Ancient Iranian thinkers wrote influential texts on philosophy and medicine, and it\")]\\n\\n</s>\\n<|user|>\\ntell me about Iran nature\\n</s>\\n<|assistant|>\\n\\n  <|assistant|>\\n  <|assistant|>\\n    <|assistant|>\\n      <|'"
            ],
            "application/vnd.google.colaboratory.intrinsic+json": {
              "type": "string"
            }
          },
          "metadata": {},
          "execution_count": 45
        }
      ],
      "source": [
        "from langchain_core.runnables import RunnablePassthrough\n",
        "\n",
        "retriever = vector_store.as_retriever(search_type=\"similarity\", search_kwargs={\"k\": 3})\n",
        "\n",
        "rag_chain = {\"context\": retriever, \"question\": RunnablePassthrough()} | llm_chain\n",
        "\n",
        "response=rag_chain.invoke(\"tell me about Iran nature\")\n",
        "\n",
        "response"
      ]
    },
    {
      "cell_type": "code",
      "execution_count": 46,
      "metadata": {
        "id": "kF2dWF43WSF1",
        "colab": {
          "base_uri": "https://localhost:8080/",
          "height": 122
        },
        "outputId": "961282ce-aa74-43a8-97d7-76ce186b3d8e"
      },
      "outputs": [
        {
          "output_type": "execute_result",
          "data": {
            "text/plain": [
              "'\"world by a beautiful but often lonely landscape. High, rugged mountains create a barrier with Iran\\'s neighbors in the west, and the eastern region is covered by a barren, salty desert.In Iran\\'s north, a narrow, fertile strip borders the Caspian Sea, and in the south, lowlands rim the Persian Gulf and the Gulf of Oman. Most people in Iran live along the edges of a high plateau that runs through the middle of the country.Map created by National Geographic MapsTehran is the capital of Iran.Photograph by Suronin, DreamstimePlease be respectful of copyright. Unauthorized use is prohibited.PEOPLE & CULTUREStrong religious beliefs have been part of Iranians\\' lives for thousands of years. Almost all Iranians are Muslim, or followers of Islam. The religion is central to daily life.Iran has a long history of scholarship that has created a rich culture of art, literature, poetry, music, cuisine, and architecture. Ancient Iranian thinkers wrote influential texts on philosophy and medicine, and it\")]\\n\\n</s>\\n<|user|>\\ntell me about Iran nature\\n</s>\\n<|assistant|>\\n\\n  <|assistant|>\\n  <|assistant|>\\n    <|assistant|>\\n      <|'"
            ],
            "application/vnd.google.colaboratory.intrinsic+json": {
              "type": "string"
            }
          },
          "metadata": {},
          "execution_count": 46
        }
      ],
      "source": [
        "rest, n = response.rsplit('page_content=', 1)\n",
        "\n",
        "n  #eval(n)"
      ]
    },
    {
      "cell_type": "code",
      "execution_count": 47,
      "metadata": {
        "id": "xwcwba22w6L8",
        "colab": {
          "base_uri": "https://localhost:8080/"
        },
        "outputId": "7f827bc9-a318-426f-c092-3645401d6fdf"
      },
      "outputs": [
        {
          "output_type": "execute_result",
          "data": {
            "text/plain": [
              "['a864d707-e02e-42c9-b74a-7438970464b3',\n",
              " '95a8acf7-5be7-4341-aec6-3bf73b01c6ed',\n",
              " '939fc83b-e1c6-4eba-83e9-04b29e12a978',\n",
              " '7f8a265b-8008-4764-9298-6f85c63641f0',\n",
              " 'dd53c73d-0490-480d-9c3e-c24976c70477',\n",
              " 'c33a2581-9008-489f-982a-e9a8717488fc',\n",
              " '65c9249a-594e-49a8-8d66-62d95fb0a692',\n",
              " '2b74944e-23d4-4066-a61a-493294fbb314',\n",
              " '48664bec-8cc4-4b9a-968f-f758a73cf483',\n",
              " '6899a13d-40b9-49bb-a0b2-022a033902ff',\n",
              " '5797445c-7e2b-4a4c-950e-e901481be709',\n",
              " 'b50214ae-c1ca-40f4-bd32-ae5e6510766f',\n",
              " 'bb87dc15-2eb5-41d2-b100-d5246ec9ce86',\n",
              " 'd80b6d37-e210-4817-b0e4-ed0f2b3b1bc5',\n",
              " 'd4453a7d-338b-4895-9c67-105c083378a9',\n",
              " '2ae99234-d6eb-4ebf-976a-067c086c7cf1',\n",
              " 'a9caaea9-90f2-48fe-bc59-77b8660cb4cd',\n",
              " '51ed1296-2cf8-481d-95de-87cda1a43c7d',\n",
              " 'c5052720-d278-494b-8fbd-25506d631d4e',\n",
              " 'b54e83c7-8b10-4430-bb55-686167b40acc',\n",
              " '5c88ac22-b09b-4ef2-a1fb-a8467f603ff9',\n",
              " 'a43affa7-6ce1-4aaf-8282-c22c96ea0692',\n",
              " '515e1637-9110-4846-8e78-81caf11c6864',\n",
              " 'e1711b15-a4c0-4f7a-b9eb-555964d85ae1',\n",
              " 'b9e889c5-d108-491c-b31b-9b342b04a5b8',\n",
              " '0b5a0c55-5d7f-404e-a610-3e7b48922233',\n",
              " '81f1a12b-e8a7-45cb-bde6-58f7e3c04f55',\n",
              " '4c77b12f-35df-4b0e-a48a-a90167f5e502',\n",
              " '5ebe5dcb-f00b-45d7-99a9-edbc79c3713c',\n",
              " '2b175414-2bb9-4e11-8928-87b86c9f525b',\n",
              " 'd70704d6-d33d-4576-8ef8-01e381bad609',\n",
              " 'a078290c-4cc0-4d7c-a039-6d6a99a39bdb',\n",
              " 'c3da8cc2-b4c3-4fb5-a3a6-986c2f98ad30',\n",
              " '28da3942-a77e-4b55-8c29-7cfbb2108a87',\n",
              " '31e2a573-f304-435f-974a-6040e4175dfa',\n",
              " 'f525a71f-b543-4e39-a05e-477f86c7cf17',\n",
              " 'd5258220-7f64-4c05-99c8-9610610566ae',\n",
              " '24cd3902-cc6b-4110-abe9-00333273e821']"
            ]
          },
          "metadata": {},
          "execution_count": 47
        }
      ],
      "source": [
        "from uuid import uuid4\n",
        "from langchain_core.documents import Document\n",
        "from langchain_community.document_loaders import PyPDFLoader\n",
        "\n",
        "\n",
        "file_path = \"products.pdf\"\n",
        "\n",
        "loader = PyPDFLoader(file_path)\n",
        "pages = loader.load_and_split()\n",
        "\n",
        "\n",
        "uuids = [str(uuid4()) for _ in range(len(pages))]\n",
        "\n",
        "vector_store.add_documents(documents=pages, ids=uuids)"
      ]
    },
    {
      "cell_type": "code",
      "source": [
        "response2=rag_chain.invoke(\"tell me about JUDO FERROCLEAN\")\n",
        "\n",
        "response2"
      ],
      "metadata": {
        "colab": {
          "base_uri": "https://localhost:8080/",
          "height": 139
        },
        "id": "Yno1N4Dj2wj3",
        "outputId": "97552326-b740-47ab-ddaf-5d1bc721b18d"
      },
      "execution_count": 48,
      "outputs": [
        {
          "output_type": "stream",
          "name": "stderr",
          "text": [
            "Setting `pad_token_id` to `eos_token_id`:128001 for open-end generation.\n"
          ]
        },
        {
          "output_type": "execute_result",
          "data": {
            "text/plain": [
              "'\\n<|system|>\\nAnswer the question based on your knowledge. Use the following context to help:\\n\\n[Document(id=\\'27c86798-13fa-4e17-bf46-6ccc4cc5340c\\', metadata={\\'producer\\': \\'Adobe PDF Library 15.0\\', \\'creator\\': \\'Adobe InDesign 16.2 (Windows)\\', \\'creationdate\\': \\'2021-05-28T10:35:49+02:00\\', \\'gts_pdfxconformance\\': \\'PDF/X-3:2002\\', \\'gts_pdfxversion\\': \\'PDF/X-3:2002\\', \\'moddate\\': \\'2021-05-28T10:37:25+02:00\\', \\'title\\': \\'1931280_Produktkatalog_CDN_2020.indd\\', \\'trapped\\': \\'/False\\', \\'source\\': \\'products.pdf\\', \\'total_pages\\': 36, \\'page\\': 29, \\'page_label\\': \\'30\\'}, page_content=\"the repair or replacement at its factory, of any device or part thereof which shall have been proven defective. If JUDO is requested \\\\nto replace defective parts at the place of first installation, JUDO, at its option, may agree to such request, provided, however, that \\\\nits travelling time, expenses and  estimated labour are paid for in advance by such end-user. JUDO\\'s option to repair or exchange \\\\nthe product under this warranty does not cover any labour or other costs of removal or installation, nor shall JUDO be responsible \\\\nfor any other incidental or consequential damages attributable to a  product defect or to the repair or exchange of a defective \\\\nproduct, all of which are expressly excluded from this warranty.\\\\nGENERAL TERMS AND CONDITIONS OF SALE  \\\\nFOR U.S.A., CANADA AND MEXICO (Version 2.0/150314)\\\\n30    JUDO Product Catalog\"), Document(id=\\'66edbffb-0846-4f21-abbf-8e7e4af4c261\\', metadata={\\'producer\\': \\'Adobe PDF Library 15.0\\', \\'creator\\': \\'Adobe InDesign 16.2 (Windows)\\', \\'creationdate\\': \\'2021-05-28T10:35:49+02:00\\', \\'gts_pdfxconformance\\': \\'PDF/X-3:2002\\', \\'gts_pdfxversion\\': \\'PDF/X-3:2002\\', \\'moddate\\': \\'2021-05-28T10:37:25+02:00\\', \\'title\\': \\'1931280_Produktkatalog_CDN_2020.indd\\', \\'trapped\\': \\'/False\\', \\'source\\': \\'products.pdf\\', \\'total_pages\\': 36, \\'page\\': 29, \\'page_label\\': \\'30\\'}, page_content=\"the repair or replacement at its factory, of any device or part thereof which shall have been proven defective. If JUDO is requested \\\\nto replace defective parts at the place of first installation, JUDO, at its option, may agree to such request, provided, however, that \\\\nits travelling time, expenses and  estimated labour are paid for in advance by such end-user. JUDO\\'s option to repair or exchange \\\\nthe product under this warranty does not cover any labour or other costs of removal or installation, nor shall JUDO be responsible \\\\nfor any other incidental or consequential damages attributable to a  product defect or to the repair or exchange of a defective \\\\nproduct, all of which are expressly excluded from this warranty.\\\\nGENERAL TERMS AND CONDITIONS OF SALE  \\\\nFOR U.S.A., CANADA AND MEXICO (Version 2.0/150314)\\\\n30    JUDO Product Catalog\"), Document(id=\\'d70704d6-d33d-4576-8ef8-01e381bad609\\', metadata={\\'producer\\': \\'Adobe PDF Library 15.0\\', \\'creator\\': \\'Adobe InDesign 16.2 (Windows)\\', \\'creationdate\\': \\'2021-05-28T10:35:49+02:00\\', \\'gts_pdfxconformance\\': \\'PDF/X-3:2002\\', \\'gts_pdfxversion\\': \\'PDF/X-3:2002\\', \\'moddate\\': \\'2021-05-28T10:37:25+02:00\\', \\'title\\': \\'1931280_Produktkatalog_CDN_2020.indd\\', \\'trapped\\': \\'/False\\', \\'source\\': \\'products.pdf\\', \\'total_pages\\': 36, \\'page\\': 29, \\'page_label\\': \\'30\\'}, page_content=\"the repair or replacement at its factory, of any device or part thereof which shall have been proven defective. If JUDO is requested \\\\nto replace defective parts at the place of first installation, JUDO, at its option, may agree to such request, provided, however, that \\\\nits travelling time, expenses and  estimated labour are paid for in advance by such end-user. JUDO\\'s option to repair or exchange \\\\nthe product under this warranty does not cover any labour or other costs of removal or installation, nor shall JUDO be responsible \\\\nfor any other incidental or consequential damages attributable to a  product defect or to the repair or exchange of a defective \\\\nproduct, all of which are expressly excluded from this warranty.\\\\nGENERAL TERMS AND CONDITIONS OF SALE  \\\\nFOR U.S.A., CANADA AND MEXICO (Version 2.0/150314)\\\\n30    JUDO Product Catalog\")]\\n\\n</s>\\n<|user|>\\ntell me about JUDO FERROCLEAN\\n</s>\\n<|assistant|>\\n\\n  <|assistant|>\\n  </|assistant|>\\n</|assistant|>\\n</|user|'"
            ],
            "application/vnd.google.colaboratory.intrinsic+json": {
              "type": "string"
            }
          },
          "metadata": {},
          "execution_count": 48
        }
      ]
    },
    {
      "cell_type": "code",
      "source": [
        "rest2, n2 = response2.rsplit('page_content=', 1)\n",
        "\n",
        "n2"
      ],
      "metadata": {
        "colab": {
          "base_uri": "https://localhost:8080/",
          "height": 122
        },
        "id": "WPHHhYec2pU1",
        "outputId": "5f63fdb5-5095-4dad-98c8-c31a813e9b6d"
      },
      "execution_count": 49,
      "outputs": [
        {
          "output_type": "execute_result",
          "data": {
            "text/plain": [
              "'\"the repair or replacement at its factory, of any device or part thereof which shall have been proven defective. If JUDO is requested \\\\nto replace defective parts at the place of first installation, JUDO, at its option, may agree to such request, provided, however, that \\\\nits travelling time, expenses and  estimated labour are paid for in advance by such end-user. JUDO\\'s option to repair or exchange \\\\nthe product under this warranty does not cover any labour or other costs of removal or installation, nor shall JUDO be responsible \\\\nfor any other incidental or consequential damages attributable to a  product defect or to the repair or exchange of a defective \\\\nproduct, all of which are expressly excluded from this warranty.\\\\nGENERAL TERMS AND CONDITIONS OF SALE  \\\\nFOR U.S.A., CANADA AND MEXICO (Version 2.0/150314)\\\\n30    JUDO Product Catalog\")]\\n\\n</s>\\n<|user|>\\ntell me about JUDO FERROCLEAN\\n</s>\\n<|assistant|>\\n\\n  <|assistant|>\\n  </|assistant|>\\n</|assistant|>\\n</|user|'"
            ],
            "application/vnd.google.colaboratory.intrinsic+json": {
              "type": "string"
            }
          },
          "metadata": {},
          "execution_count": 49
        }
      ]
    },
    {
      "cell_type": "code",
      "source": [],
      "metadata": {
        "id": "cShRatHh2eaY"
      },
      "execution_count": null,
      "outputs": []
    },
    {
      "cell_type": "code",
      "execution_count": null,
      "metadata": {
        "id": "OuQmGOZGWSNV"
      },
      "outputs": [],
      "source": []
    },
    {
      "cell_type": "code",
      "execution_count": null,
      "metadata": {
        "id": "hMrZuKcpsGkv"
      },
      "outputs": [],
      "source": []
    },
    {
      "cell_type": "code",
      "execution_count": null,
      "metadata": {
        "id": "IgWjN3xriVm5"
      },
      "outputs": [],
      "source": []
    },
    {
      "cell_type": "code",
      "execution_count": null,
      "metadata": {
        "id": "oeIHEUrgw6Pc"
      },
      "outputs": [],
      "source": []
    },
    {
      "cell_type": "code",
      "execution_count": null,
      "metadata": {
        "id": "R-gW3Fvlw6Tf"
      },
      "outputs": [],
      "source": []
    },
    {
      "cell_type": "code",
      "execution_count": null,
      "metadata": {
        "id": "A_E2yV1dw6XT"
      },
      "outputs": [],
      "source": []
    },
    {
      "cell_type": "code",
      "execution_count": null,
      "metadata": {
        "id": "5mEZKq2_w6aw"
      },
      "outputs": [],
      "source": []
    },
    {
      "cell_type": "code",
      "execution_count": null,
      "metadata": {
        "id": "gV1oEm1Pw6eO"
      },
      "outputs": [],
      "source": []
    },
    {
      "cell_type": "code",
      "execution_count": null,
      "metadata": {
        "id": "nDRJr0jvw6iH"
      },
      "outputs": [],
      "source": []
    },
    {
      "cell_type": "code",
      "execution_count": null,
      "metadata": {
        "id": "FhJKK6hMw6li"
      },
      "outputs": [],
      "source": []
    },
    {
      "cell_type": "code",
      "execution_count": null,
      "metadata": {
        "id": "Ml9Cfcdaw62z"
      },
      "outputs": [],
      "source": []
    },
    {
      "cell_type": "code",
      "execution_count": null,
      "metadata": {
        "id": "_PVZzZIXw7B4"
      },
      "outputs": [],
      "source": []
    },
    {
      "cell_type": "code",
      "execution_count": null,
      "metadata": {
        "id": "k5o3KAgNw7P_"
      },
      "outputs": [],
      "source": []
    },
    {
      "cell_type": "code",
      "execution_count": null,
      "metadata": {
        "id": "xp-vzmRRw7Zk"
      },
      "outputs": [],
      "source": []
    },
    {
      "cell_type": "code",
      "execution_count": null,
      "metadata": {
        "id": "XhrX5GFMw7mX"
      },
      "outputs": [],
      "source": []
    }
  ],
  "metadata": {
    "colab": {
      "provenance": []
    },
    "kernelspec": {
      "display_name": "Python 3",
      "name": "python3"
    },
    "language_info": {
      "name": "python"
    },
    "widgets": {
      "application/vnd.jupyter.widget-state+json": {
        "ddea40c97b654c57a50d8e0c39e5bbe3": {
          "model_module": "@jupyter-widgets/controls",
          "model_name": "VBoxModel",
          "model_module_version": "1.5.0",
          "state": {
            "_dom_classes": [],
            "_model_module": "@jupyter-widgets/controls",
            "_model_module_version": "1.5.0",
            "_model_name": "VBoxModel",
            "_view_count": null,
            "_view_module": "@jupyter-widgets/controls",
            "_view_module_version": "1.5.0",
            "_view_name": "VBoxView",
            "box_style": "",
            "children": [],
            "layout": "IPY_MODEL_fa4de155828349499275deb5a564548d"
          }
        },
        "024b34e4d20d4e19b8a7e715e79d1fe7": {
          "model_module": "@jupyter-widgets/controls",
          "model_name": "HTMLModel",
          "model_module_version": "1.5.0",
          "state": {
            "_dom_classes": [],
            "_model_module": "@jupyter-widgets/controls",
            "_model_module_version": "1.5.0",
            "_model_name": "HTMLModel",
            "_view_count": null,
            "_view_module": "@jupyter-widgets/controls",
            "_view_module_version": "1.5.0",
            "_view_name": "HTMLView",
            "description": "",
            "description_tooltip": null,
            "layout": "IPY_MODEL_86a58e05193949e4ab2b314d65b792df",
            "placeholder": "​",
            "style": "IPY_MODEL_631217c36ac54cf796703d93276918eb",
            "value": "<center> <img\nsrc=https://huggingface.co/front/assets/huggingface_logo-noborder.svg\nalt='Hugging Face'> <br> Copy a token from <a\nhref=\"https://huggingface.co/settings/tokens\" target=\"_blank\">your Hugging Face\ntokens page</a> and paste it below. <br> Immediately click login after copying\nyour token or it might be stored in plain text in this notebook file. </center>"
          }
        },
        "d96f9b9540c642d19941302df1ac1077": {
          "model_module": "@jupyter-widgets/controls",
          "model_name": "PasswordModel",
          "model_module_version": "1.5.0",
          "state": {
            "_dom_classes": [],
            "_model_module": "@jupyter-widgets/controls",
            "_model_module_version": "1.5.0",
            "_model_name": "PasswordModel",
            "_view_count": null,
            "_view_module": "@jupyter-widgets/controls",
            "_view_module_version": "1.5.0",
            "_view_name": "PasswordView",
            "continuous_update": true,
            "description": "Token:",
            "description_tooltip": null,
            "disabled": false,
            "layout": "IPY_MODEL_de882295500d4b16bb35e73914ae9942",
            "placeholder": "​",
            "style": "IPY_MODEL_956ea0f9fa0b4e9cafc4c716028c7685",
            "value": ""
          }
        },
        "81aa88d89101450487ad3ebd2db38a97": {
          "model_module": "@jupyter-widgets/controls",
          "model_name": "CheckboxModel",
          "model_module_version": "1.5.0",
          "state": {
            "_dom_classes": [],
            "_model_module": "@jupyter-widgets/controls",
            "_model_module_version": "1.5.0",
            "_model_name": "CheckboxModel",
            "_view_count": null,
            "_view_module": "@jupyter-widgets/controls",
            "_view_module_version": "1.5.0",
            "_view_name": "CheckboxView",
            "description": "Add token as git credential?",
            "description_tooltip": null,
            "disabled": false,
            "indent": true,
            "layout": "IPY_MODEL_89180c5b731c4d4ea21f138b42cdb991",
            "style": "IPY_MODEL_02223e4f32c444918031660e3688e403",
            "value": true
          }
        },
        "7f0c47bcd2d340a99f59cb1cbe0112bd": {
          "model_module": "@jupyter-widgets/controls",
          "model_name": "ButtonModel",
          "model_module_version": "1.5.0",
          "state": {
            "_dom_classes": [],
            "_model_module": "@jupyter-widgets/controls",
            "_model_module_version": "1.5.0",
            "_model_name": "ButtonModel",
            "_view_count": null,
            "_view_module": "@jupyter-widgets/controls",
            "_view_module_version": "1.5.0",
            "_view_name": "ButtonView",
            "button_style": "",
            "description": "Login",
            "disabled": false,
            "icon": "",
            "layout": "IPY_MODEL_99c63cf69e4a406082c03417021a96e7",
            "style": "IPY_MODEL_759d9a0cd54b4bdb88bf6096fdd392d4",
            "tooltip": ""
          }
        },
        "3bd7dd509ee4473c9a271294c6ed627a": {
          "model_module": "@jupyter-widgets/controls",
          "model_name": "HTMLModel",
          "model_module_version": "1.5.0",
          "state": {
            "_dom_classes": [],
            "_model_module": "@jupyter-widgets/controls",
            "_model_module_version": "1.5.0",
            "_model_name": "HTMLModel",
            "_view_count": null,
            "_view_module": "@jupyter-widgets/controls",
            "_view_module_version": "1.5.0",
            "_view_name": "HTMLView",
            "description": "",
            "description_tooltip": null,
            "layout": "IPY_MODEL_a670dfe8d24f4a3c8c16c71e100258ab",
            "placeholder": "​",
            "style": "IPY_MODEL_50b3bb30c9304c1a8c8545f26300bac2",
            "value": "\n<b>Pro Tip:</b> If you don't already have one, you can create a dedicated\n'notebooks' token with 'write' access, that you can then easily reuse for all\nnotebooks. </center>"
          }
        },
        "fa4de155828349499275deb5a564548d": {
          "model_module": "@jupyter-widgets/base",
          "model_name": "LayoutModel",
          "model_module_version": "1.2.0",
          "state": {
            "_model_module": "@jupyter-widgets/base",
            "_model_module_version": "1.2.0",
            "_model_name": "LayoutModel",
            "_view_count": null,
            "_view_module": "@jupyter-widgets/base",
            "_view_module_version": "1.2.0",
            "_view_name": "LayoutView",
            "align_content": null,
            "align_items": "center",
            "align_self": null,
            "border": null,
            "bottom": null,
            "display": "flex",
            "flex": null,
            "flex_flow": "column",
            "grid_area": null,
            "grid_auto_columns": null,
            "grid_auto_flow": null,
            "grid_auto_rows": null,
            "grid_column": null,
            "grid_gap": null,
            "grid_row": null,
            "grid_template_areas": null,
            "grid_template_columns": null,
            "grid_template_rows": null,
            "height": null,
            "justify_content": null,
            "justify_items": null,
            "left": null,
            "margin": null,
            "max_height": null,
            "max_width": null,
            "min_height": null,
            "min_width": null,
            "object_fit": null,
            "object_position": null,
            "order": null,
            "overflow": null,
            "overflow_x": null,
            "overflow_y": null,
            "padding": null,
            "right": null,
            "top": null,
            "visibility": null,
            "width": "50%"
          }
        },
        "86a58e05193949e4ab2b314d65b792df": {
          "model_module": "@jupyter-widgets/base",
          "model_name": "LayoutModel",
          "model_module_version": "1.2.0",
          "state": {
            "_model_module": "@jupyter-widgets/base",
            "_model_module_version": "1.2.0",
            "_model_name": "LayoutModel",
            "_view_count": null,
            "_view_module": "@jupyter-widgets/base",
            "_view_module_version": "1.2.0",
            "_view_name": "LayoutView",
            "align_content": null,
            "align_items": null,
            "align_self": null,
            "border": null,
            "bottom": null,
            "display": null,
            "flex": null,
            "flex_flow": null,
            "grid_area": null,
            "grid_auto_columns": null,
            "grid_auto_flow": null,
            "grid_auto_rows": null,
            "grid_column": null,
            "grid_gap": null,
            "grid_row": null,
            "grid_template_areas": null,
            "grid_template_columns": null,
            "grid_template_rows": null,
            "height": null,
            "justify_content": null,
            "justify_items": null,
            "left": null,
            "margin": null,
            "max_height": null,
            "max_width": null,
            "min_height": null,
            "min_width": null,
            "object_fit": null,
            "object_position": null,
            "order": null,
            "overflow": null,
            "overflow_x": null,
            "overflow_y": null,
            "padding": null,
            "right": null,
            "top": null,
            "visibility": null,
            "width": null
          }
        },
        "631217c36ac54cf796703d93276918eb": {
          "model_module": "@jupyter-widgets/controls",
          "model_name": "DescriptionStyleModel",
          "model_module_version": "1.5.0",
          "state": {
            "_model_module": "@jupyter-widgets/controls",
            "_model_module_version": "1.5.0",
            "_model_name": "DescriptionStyleModel",
            "_view_count": null,
            "_view_module": "@jupyter-widgets/base",
            "_view_module_version": "1.2.0",
            "_view_name": "StyleView",
            "description_width": ""
          }
        },
        "de882295500d4b16bb35e73914ae9942": {
          "model_module": "@jupyter-widgets/base",
          "model_name": "LayoutModel",
          "model_module_version": "1.2.0",
          "state": {
            "_model_module": "@jupyter-widgets/base",
            "_model_module_version": "1.2.0",
            "_model_name": "LayoutModel",
            "_view_count": null,
            "_view_module": "@jupyter-widgets/base",
            "_view_module_version": "1.2.0",
            "_view_name": "LayoutView",
            "align_content": null,
            "align_items": null,
            "align_self": null,
            "border": null,
            "bottom": null,
            "display": null,
            "flex": null,
            "flex_flow": null,
            "grid_area": null,
            "grid_auto_columns": null,
            "grid_auto_flow": null,
            "grid_auto_rows": null,
            "grid_column": null,
            "grid_gap": null,
            "grid_row": null,
            "grid_template_areas": null,
            "grid_template_columns": null,
            "grid_template_rows": null,
            "height": null,
            "justify_content": null,
            "justify_items": null,
            "left": null,
            "margin": null,
            "max_height": null,
            "max_width": null,
            "min_height": null,
            "min_width": null,
            "object_fit": null,
            "object_position": null,
            "order": null,
            "overflow": null,
            "overflow_x": null,
            "overflow_y": null,
            "padding": null,
            "right": null,
            "top": null,
            "visibility": null,
            "width": null
          }
        },
        "956ea0f9fa0b4e9cafc4c716028c7685": {
          "model_module": "@jupyter-widgets/controls",
          "model_name": "DescriptionStyleModel",
          "model_module_version": "1.5.0",
          "state": {
            "_model_module": "@jupyter-widgets/controls",
            "_model_module_version": "1.5.0",
            "_model_name": "DescriptionStyleModel",
            "_view_count": null,
            "_view_module": "@jupyter-widgets/base",
            "_view_module_version": "1.2.0",
            "_view_name": "StyleView",
            "description_width": ""
          }
        },
        "89180c5b731c4d4ea21f138b42cdb991": {
          "model_module": "@jupyter-widgets/base",
          "model_name": "LayoutModel",
          "model_module_version": "1.2.0",
          "state": {
            "_model_module": "@jupyter-widgets/base",
            "_model_module_version": "1.2.0",
            "_model_name": "LayoutModel",
            "_view_count": null,
            "_view_module": "@jupyter-widgets/base",
            "_view_module_version": "1.2.0",
            "_view_name": "LayoutView",
            "align_content": null,
            "align_items": null,
            "align_self": null,
            "border": null,
            "bottom": null,
            "display": null,
            "flex": null,
            "flex_flow": null,
            "grid_area": null,
            "grid_auto_columns": null,
            "grid_auto_flow": null,
            "grid_auto_rows": null,
            "grid_column": null,
            "grid_gap": null,
            "grid_row": null,
            "grid_template_areas": null,
            "grid_template_columns": null,
            "grid_template_rows": null,
            "height": null,
            "justify_content": null,
            "justify_items": null,
            "left": null,
            "margin": null,
            "max_height": null,
            "max_width": null,
            "min_height": null,
            "min_width": null,
            "object_fit": null,
            "object_position": null,
            "order": null,
            "overflow": null,
            "overflow_x": null,
            "overflow_y": null,
            "padding": null,
            "right": null,
            "top": null,
            "visibility": null,
            "width": null
          }
        },
        "02223e4f32c444918031660e3688e403": {
          "model_module": "@jupyter-widgets/controls",
          "model_name": "DescriptionStyleModel",
          "model_module_version": "1.5.0",
          "state": {
            "_model_module": "@jupyter-widgets/controls",
            "_model_module_version": "1.5.0",
            "_model_name": "DescriptionStyleModel",
            "_view_count": null,
            "_view_module": "@jupyter-widgets/base",
            "_view_module_version": "1.2.0",
            "_view_name": "StyleView",
            "description_width": ""
          }
        },
        "99c63cf69e4a406082c03417021a96e7": {
          "model_module": "@jupyter-widgets/base",
          "model_name": "LayoutModel",
          "model_module_version": "1.2.0",
          "state": {
            "_model_module": "@jupyter-widgets/base",
            "_model_module_version": "1.2.0",
            "_model_name": "LayoutModel",
            "_view_count": null,
            "_view_module": "@jupyter-widgets/base",
            "_view_module_version": "1.2.0",
            "_view_name": "LayoutView",
            "align_content": null,
            "align_items": null,
            "align_self": null,
            "border": null,
            "bottom": null,
            "display": null,
            "flex": null,
            "flex_flow": null,
            "grid_area": null,
            "grid_auto_columns": null,
            "grid_auto_flow": null,
            "grid_auto_rows": null,
            "grid_column": null,
            "grid_gap": null,
            "grid_row": null,
            "grid_template_areas": null,
            "grid_template_columns": null,
            "grid_template_rows": null,
            "height": null,
            "justify_content": null,
            "justify_items": null,
            "left": null,
            "margin": null,
            "max_height": null,
            "max_width": null,
            "min_height": null,
            "min_width": null,
            "object_fit": null,
            "object_position": null,
            "order": null,
            "overflow": null,
            "overflow_x": null,
            "overflow_y": null,
            "padding": null,
            "right": null,
            "top": null,
            "visibility": null,
            "width": null
          }
        },
        "759d9a0cd54b4bdb88bf6096fdd392d4": {
          "model_module": "@jupyter-widgets/controls",
          "model_name": "ButtonStyleModel",
          "model_module_version": "1.5.0",
          "state": {
            "_model_module": "@jupyter-widgets/controls",
            "_model_module_version": "1.5.0",
            "_model_name": "ButtonStyleModel",
            "_view_count": null,
            "_view_module": "@jupyter-widgets/base",
            "_view_module_version": "1.2.0",
            "_view_name": "StyleView",
            "button_color": null,
            "font_weight": ""
          }
        },
        "a670dfe8d24f4a3c8c16c71e100258ab": {
          "model_module": "@jupyter-widgets/base",
          "model_name": "LayoutModel",
          "model_module_version": "1.2.0",
          "state": {
            "_model_module": "@jupyter-widgets/base",
            "_model_module_version": "1.2.0",
            "_model_name": "LayoutModel",
            "_view_count": null,
            "_view_module": "@jupyter-widgets/base",
            "_view_module_version": "1.2.0",
            "_view_name": "LayoutView",
            "align_content": null,
            "align_items": null,
            "align_self": null,
            "border": null,
            "bottom": null,
            "display": null,
            "flex": null,
            "flex_flow": null,
            "grid_area": null,
            "grid_auto_columns": null,
            "grid_auto_flow": null,
            "grid_auto_rows": null,
            "grid_column": null,
            "grid_gap": null,
            "grid_row": null,
            "grid_template_areas": null,
            "grid_template_columns": null,
            "grid_template_rows": null,
            "height": null,
            "justify_content": null,
            "justify_items": null,
            "left": null,
            "margin": null,
            "max_height": null,
            "max_width": null,
            "min_height": null,
            "min_width": null,
            "object_fit": null,
            "object_position": null,
            "order": null,
            "overflow": null,
            "overflow_x": null,
            "overflow_y": null,
            "padding": null,
            "right": null,
            "top": null,
            "visibility": null,
            "width": null
          }
        },
        "50b3bb30c9304c1a8c8545f26300bac2": {
          "model_module": "@jupyter-widgets/controls",
          "model_name": "DescriptionStyleModel",
          "model_module_version": "1.5.0",
          "state": {
            "_model_module": "@jupyter-widgets/controls",
            "_model_module_version": "1.5.0",
            "_model_name": "DescriptionStyleModel",
            "_view_count": null,
            "_view_module": "@jupyter-widgets/base",
            "_view_module_version": "1.2.0",
            "_view_name": "StyleView",
            "description_width": ""
          }
        },
        "7f48f21233374118a3d072f29f7a4ade": {
          "model_module": "@jupyter-widgets/controls",
          "model_name": "LabelModel",
          "model_module_version": "1.5.0",
          "state": {
            "_dom_classes": [],
            "_model_module": "@jupyter-widgets/controls",
            "_model_module_version": "1.5.0",
            "_model_name": "LabelModel",
            "_view_count": null,
            "_view_module": "@jupyter-widgets/controls",
            "_view_module_version": "1.5.0",
            "_view_name": "LabelView",
            "description": "",
            "description_tooltip": null,
            "layout": "IPY_MODEL_51732cfbe8984646a388c1cff052abdd",
            "placeholder": "​",
            "style": "IPY_MODEL_81ce7ee3c83a447c8f65d9a796364f26",
            "value": "Connecting..."
          }
        },
        "51732cfbe8984646a388c1cff052abdd": {
          "model_module": "@jupyter-widgets/base",
          "model_name": "LayoutModel",
          "model_module_version": "1.2.0",
          "state": {
            "_model_module": "@jupyter-widgets/base",
            "_model_module_version": "1.2.0",
            "_model_name": "LayoutModel",
            "_view_count": null,
            "_view_module": "@jupyter-widgets/base",
            "_view_module_version": "1.2.0",
            "_view_name": "LayoutView",
            "align_content": null,
            "align_items": null,
            "align_self": null,
            "border": null,
            "bottom": null,
            "display": null,
            "flex": null,
            "flex_flow": null,
            "grid_area": null,
            "grid_auto_columns": null,
            "grid_auto_flow": null,
            "grid_auto_rows": null,
            "grid_column": null,
            "grid_gap": null,
            "grid_row": null,
            "grid_template_areas": null,
            "grid_template_columns": null,
            "grid_template_rows": null,
            "height": null,
            "justify_content": null,
            "justify_items": null,
            "left": null,
            "margin": null,
            "max_height": null,
            "max_width": null,
            "min_height": null,
            "min_width": null,
            "object_fit": null,
            "object_position": null,
            "order": null,
            "overflow": null,
            "overflow_x": null,
            "overflow_y": null,
            "padding": null,
            "right": null,
            "top": null,
            "visibility": null,
            "width": null
          }
        },
        "81ce7ee3c83a447c8f65d9a796364f26": {
          "model_module": "@jupyter-widgets/controls",
          "model_name": "DescriptionStyleModel",
          "model_module_version": "1.5.0",
          "state": {
            "_model_module": "@jupyter-widgets/controls",
            "_model_module_version": "1.5.0",
            "_model_name": "DescriptionStyleModel",
            "_view_count": null,
            "_view_module": "@jupyter-widgets/base",
            "_view_module_version": "1.2.0",
            "_view_name": "StyleView",
            "description_width": ""
          }
        }
      }
    }
  },
  "nbformat": 4,
  "nbformat_minor": 0
}