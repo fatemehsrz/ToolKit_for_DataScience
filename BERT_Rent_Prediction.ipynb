{
 "cells": [
  {
   "cell_type": "markdown",
   "metadata": {
    "id": "szyiGC-UfzuQ"
   },
   "source": [
    "## BERT with Auxiliary Features\n",
    "\n",
    "1. Load Data\n",
    "2. Train Test Split\n",
    "3. Build Tensors\n",
    "4. Define Model Architecture\n",
    "4. Run Train and Test Steps\n"
   ]
  },
  {
   "cell_type": "code",
   "execution_count": 1,
   "metadata": {
    "colab": {
     "base_uri": "https://localhost:8080/"
    },
    "id": "Imr-XYWelfN-",
    "outputId": "36b1240c-6ab7-46e8-dc12-9db9cdedb3da"
   },
   "outputs": [
    {
     "name": "stdout",
     "output_type": "stream",
     "text": [
      "Requirement already satisfied: nltk in /usr/local/lib/python3.10/dist-packages (3.8.1)\n",
      "Requirement already satisfied: click in /usr/local/lib/python3.10/dist-packages (from nltk) (8.1.7)\n",
      "Requirement already satisfied: joblib in /usr/local/lib/python3.10/dist-packages (from nltk) (1.3.2)\n",
      "Requirement already satisfied: regex>=2021.8.3 in /usr/local/lib/python3.10/dist-packages (from nltk) (2023.12.25)\n",
      "Requirement already satisfied: tqdm in /usr/local/lib/python3.10/dist-packages (from nltk) (4.66.1)\n"
     ]
    }
   ],
   "source": [
    "pip install -U nltk"
   ]
  },
  {
   "cell_type": "code",
   "execution_count": 2,
   "metadata": {
    "colab": {
     "base_uri": "https://localhost:8080/"
    },
    "id": "qwKGmQKCVSK1",
    "outputId": "0eb5bde5-f78a-44ed-bd03-ca1e76f950b9"
   },
   "outputs": [
    {
     "name": "stdout",
     "output_type": "stream",
     "text": [
      "Collecting scikeras\n",
      "  Downloading scikeras-0.12.0-py3-none-any.whl (27 kB)\n",
      "Requirement already satisfied: packaging>=0.21 in /usr/local/lib/python3.10/dist-packages (from scikeras) (23.2)\n",
      "Requirement already satisfied: scikit-learn>=1.0.0 in /usr/local/lib/python3.10/dist-packages (from scikeras) (1.2.2)\n",
      "Requirement already satisfied: numpy>=1.17.3 in /usr/local/lib/python3.10/dist-packages (from scikit-learn>=1.0.0->scikeras) (1.23.5)\n",
      "Requirement already satisfied: scipy>=1.3.2 in /usr/local/lib/python3.10/dist-packages (from scikit-learn>=1.0.0->scikeras) (1.11.4)\n",
      "Requirement already satisfied: joblib>=1.1.1 in /usr/local/lib/python3.10/dist-packages (from scikit-learn>=1.0.0->scikeras) (1.3.2)\n",
      "Requirement already satisfied: threadpoolctl>=2.0.0 in /usr/local/lib/python3.10/dist-packages (from scikit-learn>=1.0.0->scikeras) (3.2.0)\n",
      "Installing collected packages: scikeras\n",
      "Successfully installed scikeras-0.12.0\n"
     ]
    }
   ],
   "source": [
    "!pip install scikeras"
   ]
  },
  {
   "cell_type": "code",
   "execution_count": 3,
   "metadata": {
    "colab": {
     "base_uri": "https://localhost:8080/"
    },
    "id": "Kipwt3c3_HED",
    "outputId": "8e52adf8-2ba5-4a6b-8e51-251368565e40"
   },
   "outputs": [
    {
     "name": "stderr",
     "output_type": "stream",
     "text": [
      "[nltk_data] Downloading package stopwords to /root/nltk_data...\n",
      "[nltk_data]   Unzipping corpora/stopwords.zip.\n"
     ]
    }
   ],
   "source": [
    "import warnings\n",
    "warnings.filterwarnings('ignore')\n",
    "\n",
    "from pandas import read_csv\n",
    "from tensorflow.keras.models import Sequential\n",
    "from tensorflow.keras.layers import Dense\n",
    "from scikeras.wrappers import KerasRegressor\n",
    "from sklearn.model_selection import cross_val_score\n",
    "from sklearn.model_selection import KFold\n",
    "\n",
    "import xgboost\n",
    "import re\n",
    "import nltk\n",
    "import matplotlib.pyplot as plt\n",
    "import datetime as dt\n",
    "import pandas as pd\n",
    "import seaborn as sns\n",
    "import scipy\n",
    "from math import sqrt\n",
    "from scipy import stats\n",
    "from datetime import date\n",
    "import numpy as np\n",
    "import random\n",
    "from nltk.stem import SnowballStemmer\n",
    "from nltk.corpus import stopwords\n",
    "nltk.download('stopwords')\n",
    "\n",
    "from sklearn.model_selection import train_test_split\n",
    "from sklearn.metrics import accuracy_score\n",
    "from sklearn.metrics import precision_score\n",
    "from sklearn.metrics import recall_score\n",
    "from imblearn.metrics import sensitivity_score\n",
    "from sklearn.metrics import mean_absolute_error\n",
    "from sklearn.metrics import mean_squared_error, r2_score\n",
    "from sklearn.metrics import mean_absolute_percentage_error"
   ]
  },
  {
   "cell_type": "code",
   "execution_count": 4,
   "metadata": {
    "colab": {
     "base_uri": "https://localhost:8080/"
    },
    "id": "7EfmvQ9hKsp4",
    "outputId": "bfc8e063-33f8-479a-ad2f-6a41f1f5dcd0"
   },
   "outputs": [
    {
     "name": "stdout",
     "output_type": "stream",
     "text": [
      "Mounted at /content/gdrive\n"
     ]
    }
   ],
   "source": [
    "from google.colab import drive\n",
    "\n",
    "drive.mount('/content/gdrive')"
   ]
  },
  {
   "cell_type": "code",
   "execution_count": 5,
   "metadata": {
    "id": "ijsR8kXP-4w0"
   },
   "outputs": [],
   "source": [
    "df = pd.read_csv('/content/gdrive/MyDrive/immo_data.csv', encoding=\"ISO-8859-1\")"
   ]
  },
  {
   "cell_type": "code",
   "execution_count": 6,
   "metadata": {
    "id": "jEK_S32XYX_B"
   },
   "outputs": [],
   "source": [
    "import warnings\n",
    "warnings.filterwarnings('ignore')\n",
    "sns.set(rc={'figure.figsize':(16, 10)})\n",
    "\n",
    "missing_data = df.isnull().sum()"
   ]
  },
  {
   "cell_type": "code",
   "execution_count": 7,
   "metadata": {
    "colab": {
     "base_uri": "https://localhost:8080/",
     "height": 99
    },
    "id": "Oo3zfSvCBuey",
    "outputId": "c0ea5816-186d-47ea-aca8-190ac46eecb9"
   },
   "outputs": [
    {
     "data": {
      "text/html": [
       "\n",
       "  <div id=\"df-37ff4cd5-8490-4440-9475-6f02fbd906e2\" class=\"colab-df-container\">\n",
       "    <div>\n",
       "<style scoped>\n",
       "    .dataframe tbody tr th:only-of-type {\n",
       "        vertical-align: middle;\n",
       "    }\n",
       "\n",
       "    .dataframe tbody tr th {\n",
       "        vertical-align: top;\n",
       "    }\n",
       "\n",
       "    .dataframe thead th {\n",
       "        text-align: right;\n",
       "    }\n",
       "</style>\n",
       "<table border=\"1\" class=\"dataframe\">\n",
       "  <thead>\n",
       "    <tr style=\"text-align: right;\">\n",
       "      <th></th>\n",
       "      <th>regio1</th>\n",
       "      <th>serviceCharge</th>\n",
       "      <th>heatingType</th>\n",
       "      <th>telekomTvOffer</th>\n",
       "      <th>telekomHybridUploadSpeed</th>\n",
       "      <th>newlyConst</th>\n",
       "      <th>balcony</th>\n",
       "      <th>picturecount</th>\n",
       "      <th>pricetrend</th>\n",
       "      <th>telekomUploadSpeed</th>\n",
       "      <th>...</th>\n",
       "      <th>regio2</th>\n",
       "      <th>regio3</th>\n",
       "      <th>description</th>\n",
       "      <th>facilities</th>\n",
       "      <th>heatingCosts</th>\n",
       "      <th>energyEfficiencyClass</th>\n",
       "      <th>lastRefurbish</th>\n",
       "      <th>electricityBasePrice</th>\n",
       "      <th>electricityKwhPrice</th>\n",
       "      <th>date</th>\n",
       "    </tr>\n",
       "  </thead>\n",
       "  <tbody>\n",
       "  </tbody>\n",
       "</table>\n",
       "<p>0 rows × 49 columns</p>\n",
       "</div>\n",
       "    <div class=\"colab-df-buttons\">\n",
       "\n",
       "  <div class=\"colab-df-container\">\n",
       "    <button class=\"colab-df-convert\" onclick=\"convertToInteractive('df-37ff4cd5-8490-4440-9475-6f02fbd906e2')\"\n",
       "            title=\"Convert this dataframe to an interactive table.\"\n",
       "            style=\"display:none;\">\n",
       "\n",
       "  <svg xmlns=\"http://www.w3.org/2000/svg\" height=\"24px\" viewBox=\"0 -960 960 960\">\n",
       "    <path d=\"M120-120v-720h720v720H120Zm60-500h600v-160H180v160Zm220 220h160v-160H400v160Zm0 220h160v-160H400v160ZM180-400h160v-160H180v160Zm440 0h160v-160H620v160ZM180-180h160v-160H180v160Zm440 0h160v-160H620v160Z\"/>\n",
       "  </svg>\n",
       "    </button>\n",
       "\n",
       "  <style>\n",
       "    .colab-df-container {\n",
       "      display:flex;\n",
       "      gap: 12px;\n",
       "    }\n",
       "\n",
       "    .colab-df-convert {\n",
       "      background-color: #E8F0FE;\n",
       "      border: none;\n",
       "      border-radius: 50%;\n",
       "      cursor: pointer;\n",
       "      display: none;\n",
       "      fill: #1967D2;\n",
       "      height: 32px;\n",
       "      padding: 0 0 0 0;\n",
       "      width: 32px;\n",
       "    }\n",
       "\n",
       "    .colab-df-convert:hover {\n",
       "      background-color: #E2EBFA;\n",
       "      box-shadow: 0px 1px 2px rgba(60, 64, 67, 0.3), 0px 1px 3px 1px rgba(60, 64, 67, 0.15);\n",
       "      fill: #174EA6;\n",
       "    }\n",
       "\n",
       "    .colab-df-buttons div {\n",
       "      margin-bottom: 4px;\n",
       "    }\n",
       "\n",
       "    [theme=dark] .colab-df-convert {\n",
       "      background-color: #3B4455;\n",
       "      fill: #D2E3FC;\n",
       "    }\n",
       "\n",
       "    [theme=dark] .colab-df-convert:hover {\n",
       "      background-color: #434B5C;\n",
       "      box-shadow: 0px 1px 3px 1px rgba(0, 0, 0, 0.15);\n",
       "      filter: drop-shadow(0px 1px 2px rgba(0, 0, 0, 0.3));\n",
       "      fill: #FFFFFF;\n",
       "    }\n",
       "  </style>\n",
       "\n",
       "    <script>\n",
       "      const buttonEl =\n",
       "        document.querySelector('#df-37ff4cd5-8490-4440-9475-6f02fbd906e2 button.colab-df-convert');\n",
       "      buttonEl.style.display =\n",
       "        google.colab.kernel.accessAllowed ? 'block' : 'none';\n",
       "\n",
       "      async function convertToInteractive(key) {\n",
       "        const element = document.querySelector('#df-37ff4cd5-8490-4440-9475-6f02fbd906e2');\n",
       "        const dataTable =\n",
       "          await google.colab.kernel.invokeFunction('convertToInteractive',\n",
       "                                                    [key], {});\n",
       "        if (!dataTable) return;\n",
       "\n",
       "        const docLinkHtml = 'Like what you see? Visit the ' +\n",
       "          '<a target=\"_blank\" href=https://colab.research.google.com/notebooks/data_table.ipynb>data table notebook</a>'\n",
       "          + ' to learn more about interactive tables.';\n",
       "        element.innerHTML = '';\n",
       "        dataTable['output_type'] = 'display_data';\n",
       "        await google.colab.output.renderOutput(dataTable, element);\n",
       "        const docLink = document.createElement('div');\n",
       "        docLink.innerHTML = docLinkHtml;\n",
       "        element.appendChild(docLink);\n",
       "      }\n",
       "    </script>\n",
       "  </div>\n",
       "\n",
       "    </div>\n",
       "  </div>\n"
      ],
      "text/plain": [
       "Empty DataFrame\n",
       "Columns: [regio1, serviceCharge, heatingType, telekomTvOffer, telekomHybridUploadSpeed, newlyConst, balcony, picturecount, pricetrend, telekomUploadSpeed, totalRent, yearConstructed, scoutId, noParkSpaces, firingTypes, hasKitchen, geo_bln, cellar, yearConstructedRange, baseRent, houseNumber, livingSpace, geo_krs, condition, interiorQual, petsAllowed, street, streetPlain, lift, baseRentRange, typeOfFlat, geo_plz, noRooms, thermalChar, floor, numberOfFloors, noRoomsRange, garden, livingSpaceRange, regio2, regio3, description, facilities, heatingCosts, energyEfficiencyClass, lastRefurbish, electricityBasePrice, electricityKwhPrice, date]\n",
       "Index: []\n",
       "\n",
       "[0 rows x 49 columns]"
      ]
     },
     "execution_count": 7,
     "metadata": {},
     "output_type": "execute_result"
    }
   ],
   "source": [
    "duplicate_rows = df[df.duplicated(keep=False)]\n",
    "duplicate_rows"
   ]
  },
  {
   "cell_type": "code",
   "execution_count": 8,
   "metadata": {
    "id": "-_s_kci1SxlQ"
   },
   "outputs": [],
   "source": [
    "numeric_columns=  ['totalRent', 'baseRent', 'livingSpace',   'serviceCharge', 'heatingCosts',\n",
    "                     'thermalChar', 'noRoomsRange', 'livingSpaceRange','noRooms', 'noParkSpaces', 'floor', 'numberOfFloors',\n",
    "                    'picturecount','pricetrend', 'baseRentRange', 'telekomUploadSpeed',  'lastRefurbish',  'yearConstructedRange', 'yearConstructed']\n",
    "\n",
    "df[numeric_columns]= df[numeric_columns].astype(float)"
   ]
  },
  {
   "cell_type": "code",
   "execution_count": 9,
   "metadata": {
    "id": "fg5V4yiSH7ML"
   },
   "outputs": [],
   "source": [
    "df.drop( columns= ['telekomHybridUploadSpeed', 'electricityBasePrice', 'electricityKwhPrice', 'energyEfficiencyClass', 'petsAllowed', 'houseNumber'], inplace= True)"
   ]
  },
  {
   "cell_type": "code",
   "execution_count": 10,
   "metadata": {
    "id": "cIC64__OXS2U"
   },
   "outputs": [],
   "source": [
    "def round_val(x):\n",
    "    return round(x)\n",
    "\n",
    "for i in numeric_columns:\n",
    "     df[i].fillna(df[i].mean(), inplace=True)\n",
    "\n",
    "df[numeric_columns]= df[numeric_columns].apply(lambda x: round(x) )\n",
    "cat_columns= list( set(df.columns) - set(numeric_columns))\n",
    "df_num= df[['scoutId']+numeric_columns]"
   ]
  },
  {
   "cell_type": "code",
   "execution_count": 11,
   "metadata": {
    "id": "AabZW9W9HkTO"
   },
   "outputs": [],
   "source": [
    "today = date.today()\n",
    "df_num['yearConstructed']= df_num['yearConstructed'].astype(int)\n",
    "df_num['lastRefurbish']= df_num['lastRefurbish'].astype(int)\n",
    "df_num['property_age']= int(today.year)- df_num['yearConstructed']\n",
    "df_num['refurbish_age']= int(today.year)- df_num['lastRefurbish']\n",
    "\n",
    "df_num.drop( columns= ['yearConstructed', 'lastRefurbish'], inplace= True)\n",
    "numeric_columns = list( set(df_num.columns)- set(['yearConstructed', 'lastRefurbish']) )"
   ]
  },
  {
   "cell_type": "code",
   "execution_count": 12,
   "metadata": {
    "id": "HEm69BDnDXJE"
   },
   "outputs": [],
   "source": [
    "for col in numeric_columns:\n",
    "    df_num= df_num[df_num[col]>0]\n",
    "\n",
    "df_num= df_num[df_num['totalRent']>df_num['baseRent']]\n",
    "df_num= df_num[df_num['baseRent']>100]"
   ]
  },
  {
   "cell_type": "code",
   "execution_count": 13,
   "metadata": {
    "id": "4KruTW9smyaq"
   },
   "outputs": [],
   "source": [
    "df_num= df_num[ (df_num['totalRent'] < df_num['totalRent'].quantile(0.95)) &\n",
    "                ( df_num['baseRent'] < df_num['baseRent'].quantile(0.95))&\n",
    "                ( df_num['livingSpace'] < df_num['livingSpace'].quantile(0.95))&\n",
    "                ( df_num['serviceCharge'] < df_num['serviceCharge'].quantile(0.95))&\n",
    "                ( df_num['heatingCosts'] < df_num['heatingCosts'].quantile(0.95))&\n",
    "                ( df_num['thermalChar'] < df_num['thermalChar'].quantile(0.95))&\n",
    "                ( df_num['noRooms'] < df_num['noRooms'].quantile(0.95))&\n",
    "                ( df_num['property_age'] < df_num['property_age'].quantile(0.95))&\n",
    "                ( df_num['refurbish_age'] < df_num['refurbish_age'].quantile(0.95))&\n",
    "                ( df_num['floor'] < df_num['floor'].quantile(0.95))&\n",
    "                ( df_num['numberOfFloors'] < df_num['numberOfFloors'].quantile(0.95))\n",
    "                ]"
   ]
  },
  {
   "cell_type": "code",
   "execution_count": 14,
   "metadata": {
    "id": "3ofeUY79yPXH"
   },
   "outputs": [],
   "source": [
    "df_cat= df[cat_columns]\n",
    "df_mix = pd.merge(df_num, df_cat, on='scoutId')\n",
    "df_mix= df_mix.dropna()\n",
    "df_mix.reset_index(drop=True, inplace=True)"
   ]
  },
  {
   "cell_type": "code",
   "execution_count": 15,
   "metadata": {
    "id": "XsfmGMlLCDLv"
   },
   "outputs": [],
   "source": [
    "def clean_feat(text):\n",
    "\n",
    "    text = text.lower()\n",
    "    text = re.sub('[^A-Za-z0-9]+', ' ', text)\n",
    "    text = re.sub(r\"(#[\\d\\w\\.]+)\", '', text)\n",
    "    text = re.sub(r\"(@[\\d\\w\\.]+)\", '', text)\n",
    "    text = re.sub(r\"http\\S+\", \"\", text)\n",
    "    text = re.sub(r'(@.*?)[\\s]', ' ', text)\n",
    "    text = re.sub(r'&amp;', '&', text)\n",
    "    text = re.sub(r\"(?:\\@|https?\\://)\\S+\", \"\", text) #remove links and mentions\n",
    "    text = re.sub(r'\\s+', ' ', text).strip()\n",
    "    text= re.sub(r'[0-9]+', '',text)\n",
    "\n",
    "    return text\n",
    "\n",
    "for col in ['regio1', 'regio2',  'geo_bln', 'geo_krs', 'streetPlain', 'regio3', 'street']:\n",
    "    df_mix[col]=df_mix[col].apply(lambda x: clean_feat(str(x)))\n"
   ]
  },
  {
   "cell_type": "code",
   "execution_count": 16,
   "metadata": {
    "id": "Qc5jNdAuP48P"
   },
   "outputs": [],
   "source": [
    "import re\n",
    "from nltk.corpus import stopwords\n",
    "from nltk.tokenize import RegexpTokenizer\n",
    "from nltk.stem import SnowballStemmer\n",
    "\n",
    "german_stopwords = set(stopwords.words('german'))\n",
    "\n",
    "def clean_text(text):\n",
    "\n",
    "    text = re.sub('[^A-Za-z0-9]+', ' ', text)\n",
    "    text = re.sub(r\"(#[\\d\\w\\.]+)\", '', text)\n",
    "    text = re.sub(r\"(@[\\d\\w\\.]+)\", '', text)\n",
    "    text = re.sub(r\"http\\S+\", \"\", text)\n",
    "    text = re.sub(r'(@.*?)[\\s]', ' ', text)\n",
    "    text = re.sub(r'&amp;', '&', text)\n",
    "    text = re.sub(r\"(?:\\@|https?\\://)\\S+\", \"\", text) #remove links and mentions\n",
    "    text = re.sub(r'\\s+', ' ', text).strip()\n",
    "    text= re.sub(r'[0-9]+', '',text)\n",
    "\n",
    "    text= text.lower()\n",
    "\n",
    "    word_list= [word for word in text.split() if len(word)>3]\n",
    "\n",
    "    cleaned_text = ' '.join([word for word in word_list if word not in german_stopwords])\n",
    "\n",
    "    return cleaned_text\n",
    "\n",
    "df_mix[\"clean_description\"] = df_mix[\"description\"].apply(lambda x: clean_text(str(x)))\n",
    "df_mix[\"clean_facilities\"] = df_mix[\"facilities\"].apply(lambda x: clean_text(str(x)))\n"
   ]
  },
  {
   "cell_type": "code",
   "execution_count": 17,
   "metadata": {
    "id": "wwewT3dHHpoB"
   },
   "outputs": [],
   "source": [
    " df_mix= df_mix[['scoutId']+list( set(df_mix.columns)- set(['description','facilities', 'date', 'scoutId']) )]"
   ]
  },
  {
   "cell_type": "code",
   "execution_count": 18,
   "metadata": {
    "id": "qExwasVWKZH6"
   },
   "outputs": [],
   "source": [
    "for col in set(cat_columns)- {'description','facilities', 'date'}:\n",
    "    df_mix[col] = df_mix[col].astype('category')\n",
    "    df_mix[col] = df_mix[col].cat.codes"
   ]
  },
  {
   "cell_type": "code",
   "execution_count": 19,
   "metadata": {
    "colab": {
     "base_uri": "https://localhost:8080/"
    },
    "id": "eYBRAxb9UHla",
    "outputId": "129b47aa-79f8-4860-a6e3-497e92658c2d"
   },
   "outputs": [
    {
     "name": "stdout",
     "output_type": "stream",
     "text": [
      "Requirement already satisfied: transformers in /usr/local/lib/python3.10/dist-packages (4.35.2)\n",
      "Requirement already satisfied: filelock in /usr/local/lib/python3.10/dist-packages (from transformers) (3.13.1)\n",
      "Requirement already satisfied: huggingface-hub<1.0,>=0.16.4 in /usr/local/lib/python3.10/dist-packages (from transformers) (0.20.3)\n",
      "Requirement already satisfied: numpy>=1.17 in /usr/local/lib/python3.10/dist-packages (from transformers) (1.23.5)\n",
      "Requirement already satisfied: packaging>=20.0 in /usr/local/lib/python3.10/dist-packages (from transformers) (23.2)\n",
      "Requirement already satisfied: pyyaml>=5.1 in /usr/local/lib/python3.10/dist-packages (from transformers) (6.0.1)\n",
      "Requirement already satisfied: regex!=2019.12.17 in /usr/local/lib/python3.10/dist-packages (from transformers) (2023.12.25)\n",
      "Requirement already satisfied: requests in /usr/local/lib/python3.10/dist-packages (from transformers) (2.31.0)\n",
      "Requirement already satisfied: tokenizers<0.19,>=0.14 in /usr/local/lib/python3.10/dist-packages (from transformers) (0.15.1)\n",
      "Requirement already satisfied: safetensors>=0.3.1 in /usr/local/lib/python3.10/dist-packages (from transformers) (0.4.2)\n",
      "Requirement already satisfied: tqdm>=4.27 in /usr/local/lib/python3.10/dist-packages (from transformers) (4.66.1)\n",
      "Requirement already satisfied: fsspec>=2023.5.0 in /usr/local/lib/python3.10/dist-packages (from huggingface-hub<1.0,>=0.16.4->transformers) (2023.6.0)\n",
      "Requirement already satisfied: typing-extensions>=3.7.4.3 in /usr/local/lib/python3.10/dist-packages (from huggingface-hub<1.0,>=0.16.4->transformers) (4.9.0)\n",
      "Requirement already satisfied: charset-normalizer<4,>=2 in /usr/local/lib/python3.10/dist-packages (from requests->transformers) (3.3.2)\n",
      "Requirement already satisfied: idna<4,>=2.5 in /usr/local/lib/python3.10/dist-packages (from requests->transformers) (3.6)\n",
      "Requirement already satisfied: urllib3<3,>=1.21.1 in /usr/local/lib/python3.10/dist-packages (from requests->transformers) (2.0.7)\n",
      "Requirement already satisfied: certifi>=2017.4.17 in /usr/local/lib/python3.10/dist-packages (from requests->transformers) (2024.2.2)\n"
     ]
    }
   ],
   "source": [
    "!pip install transformers"
   ]
  },
  {
   "cell_type": "markdown",
   "metadata": {
    "id": "88omAU7jNbn0"
   },
   "source": [
    "## BERT"
   ]
  },
  {
   "cell_type": "code",
   "execution_count": 20,
   "metadata": {
    "id": "AU9hcMyEkwkt"
   },
   "outputs": [],
   "source": [
    "import tensorflow_hub as hub\n",
    "import tensorflow as tf\n",
    "import os as os\n",
    "import regex as re\n",
    "import pandas as pd\n",
    "import numpy as np\n",
    "from transformers import BertTokenizer\n",
    "from keras.models import Model\n",
    "from keras import optimizers\n",
    "from keras.metrics import RootMeanSquaredError\n",
    "from sklearn.preprocessing import MinMaxScaler\n",
    "import matplotlib.pyplot as plt\n",
    "from sklearn.model_selection import KFold\n",
    "import tensorflow.keras.backend as K"
   ]
  },
  {
   "cell_type": "code",
   "execution_count": 21,
   "metadata": {
    "colab": {
     "base_uri": "https://localhost:8080/"
    },
    "id": "hysCgg2Lkofx",
    "outputId": "1d0d3556-1bef-47a5-beed-29711c7f2966"
   },
   "outputs": [
    {
     "name": "stdout",
     "output_type": "stream",
     "text": [
      "/device:GPU:0\n"
     ]
    }
   ],
   "source": [
    "device_name = tf.test.gpu_device_name()\n",
    "print(device_name)"
   ]
  },
  {
   "cell_type": "code",
   "execution_count": 22,
   "metadata": {
    "id": "wm0jt8bMgUiB"
   },
   "outputs": [],
   "source": [
    "module_url = 'https://tfhub.dev/tensorflow/bert_en_uncased_L-12_H-768_A-12/1'\n",
    "bert_layer = hub.KerasLayer(module_url, trainable=False)"
   ]
  },
  {
   "cell_type": "code",
   "execution_count": 23,
   "metadata": {
    "id": "9M4vK2FaoEQU"
   },
   "outputs": [],
   "source": [
    "def text_control(doc):\n",
    "\n",
    "    doc = doc.replace(\"befindet\", \" \")\n",
    "    doc = doc.replace(\"befinden\", \" \")\n",
    "    doc = doc.replace(\"liegt\", \" \")\n",
    "    doc = doc.replace(\"wohnung\", \" \")\n",
    "    doc = doc.replace(\"zimmer\", \" \")\n",
    "\n",
    "    return doc\n",
    "\n",
    "df_txt= df_mix.copy()\n",
    "df_txt['full_text']= df_txt['clean_description']+ df_txt['clean_facilities']\n",
    "df_txt['full_text']= df_txt['full_text'].apply(lambda x: text_control(x))\n"
   ]
  },
  {
   "cell_type": "markdown",
   "metadata": {
    "id": "jxIUnmSvexan"
   },
   "source": [
    "## Tokenizing"
   ]
  },
  {
   "cell_type": "code",
   "execution_count": 24,
   "metadata": {
    "id": "CDhoP1pLglXY"
   },
   "outputs": [],
   "source": [
    "def bert_encode(sentences, tokenizer, MAX_SEQ_LEN=512):\n",
    "\n",
    "  all_tokens = []\n",
    "  all_masks = []\n",
    "  all_segments = []\n",
    "  for sentence in sentences:\n",
    "    stokens = tokenizer.tokenize(sentence)\n",
    "    stokens = stokens[-MAX_SEQ_LEN+2:]\n",
    "    stokens = [\"[CLS]\"] + stokens + [\"[SEP]\"]\n",
    "\n",
    "    token_ids = tokenizer.convert_tokens_to_ids(stokens,)\n",
    "\n",
    "    ids = token_ids + [0] * (MAX_SEQ_LEN-len(token_ids))\n",
    "    masks = [1]*len(token_ids) + [0] * (MAX_SEQ_LEN - len(token_ids))\n",
    "    segments = [0] * (MAX_SEQ_LEN)\n",
    "\n",
    "    all_tokens.append(ids)\n",
    "    all_masks.append(masks)\n",
    "    all_segments.append(segments)\n",
    "\n",
    "  return np.array(all_tokens), np.array(all_masks), np.array(all_segments)"
   ]
  },
  {
   "cell_type": "markdown",
   "metadata": {
    "id": "fiiOkKi7e16G"
   },
   "source": [
    "## Train Test Split"
   ]
  },
  {
   "cell_type": "code",
   "execution_count": 25,
   "metadata": {
    "id": "AmE4jQwrgtVz"
   },
   "outputs": [],
   "source": [
    "train_df, test_df = train_test_split( df_txt, test_size=0.25, random_state=42)\n",
    "\n",
    "train_df = train_df.loc[train_df[\"full_text\"].apply(lambda x: x.split().__len__())>128]\n",
    "test_df = test_df.loc[test_df[\"full_text\"].apply(lambda x: x.split().__len__())>128]\n",
    "\n",
    "ft= list(set(df_txt.columns)-set(['scoutId','totalRent' , 'full_text','clean_description','clean_facilities', 'date', \"baseRentRange\", \"baseRent\"]))\n",
    "\n",
    "train_df_feat= train_df[ft]\n",
    "test_df_feat= test_df[ft]\n",
    "\n",
    "train_df_others= MinMaxScaler().fit_transform(train_df_feat)\n",
    "test_df_others= MinMaxScaler().fit_transform(test_df_feat)\n",
    "\n",
    "train_df_others = train_df_others # train_df_feat\n",
    "test_df_others= test_df_others    # test_df_feat\n",
    "\n",
    "train_df= train_df\n",
    "test_df =test_df"
   ]
  },
  {
   "cell_type": "markdown",
   "metadata": {
    "id": "O1gtTaM5e7Zk"
   },
   "source": [
    "## Input Prepration"
   ]
  },
  {
   "cell_type": "code",
   "execution_count": 26,
   "metadata": {
    "colab": {
     "base_uri": "https://localhost:8080/",
     "height": 162,
     "referenced_widgets": [
      "746b1d374f464e23af007be5aba0aac4",
      "8db1edf969f248e48b5ebacca6b00685",
      "9bfeec91ffaf41f8a4b79d59a8c70b34",
      "bd15e5d3a6ca442da175b8722f1d689a",
      "a45ac86da6b540fab89a91eb10d82178",
      "f652dbfb8f314b7e9d1289dfa7a77204",
      "67b132597e5243f1bd523790c2c34687",
      "3d6a65d55080429483a44e41e663f996",
      "ce7c18ebe37249a6a695e08eda96b32f",
      "3eba9123761c467e8cf0afcff99f3962",
      "e8980d49369744c28939e2863fba91ee",
      "f0b9ee50f81e4bb590497a8d9440b23e",
      "84f7a41c2cd74e3597287b938642fa37",
      "e98736c650744616abfcc74b4d01fc45",
      "f425ba108c80409c8ba8690d25e9483b",
      "82cd299d368e42fe987f3625e036eec5",
      "b0a3bb18800141f1bbe9fa2c9c411c14",
      "2b6c56d7c1ba45068c718048003ac26b",
      "0df0012eac97424ba98d497e3967e7f9",
      "dfe61aa28a6c4b0c9850890c960d2ad3",
      "608aa544e04e42258333ec20d2d9a911",
      "1008bb1197cd44ad9544c50ec8e3f26a",
      "295546bf6a4e495faf96cc6be6fbb9c7",
      "e5767d7758b24dedaccb65a0dc9f2ae0",
      "71176bd3d0144646a21d1d60ae00c3da",
      "6a988a74fd1f4ea4b5780affab2e9186",
      "5dea70933ba548e5b1268941673cacc0",
      "d4fc74872e31499cb6a015615aa15bd9",
      "19b8332648454281b835b02db96bce03",
      "9d36dcf3eacc4956930910894fd8e095",
      "a511e0b9827a49a28d58f458e8e7a717",
      "f6534d0407034d469f22c7833e5c9beb",
      "02e599e507244dba956f70ae7867bb36",
      "21802cb582ec4ecd8f2db138a4eb4977",
      "e6cab4bb29654d62ad9216e0e02e7b76",
      "9999a469621547d88d5fdddaad17b3f4",
      "9eb50d6185a24e8e8216f95d6e754772",
      "7fa13aa979294325886f146bcb0a7f67",
      "a223b253cffe41aea6776228627da37e",
      "8ee86f795c64471ba24391d8a9746174",
      "1b095abbc6224271b920255f4737eff6",
      "87318f67a6744e07867d158b070f3d20",
      "e63cc73ba25942d784eeba758df37162",
      "efe2cc2363df45f2bba6005e92b66123"
     ]
    },
    "id": "rC44CFDiinkE",
    "outputId": "6f97d654-be30-4c9c-f81f-c7138c405993"
   },
   "outputs": [
    {
     "data": {
      "application/vnd.jupyter.widget-view+json": {
       "model_id": "746b1d374f464e23af007be5aba0aac4",
       "version_major": 2,
       "version_minor": 0
      },
      "text/plain": [
       "tokenizer_config.json:   0%|          | 0.00/29.0 [00:00<?, ?B/s]"
      ]
     },
     "metadata": {},
     "output_type": "display_data"
    },
    {
     "data": {
      "application/vnd.jupyter.widget-view+json": {
       "model_id": "f0b9ee50f81e4bb590497a8d9440b23e",
       "version_major": 2,
       "version_minor": 0
      },
      "text/plain": [
       "config.json:   0%|          | 0.00/433 [00:00<?, ?B/s]"
      ]
     },
     "metadata": {},
     "output_type": "display_data"
    },
    {
     "data": {
      "application/vnd.jupyter.widget-view+json": {
       "model_id": "295546bf6a4e495faf96cc6be6fbb9c7",
       "version_major": 2,
       "version_minor": 0
      },
      "text/plain": [
       "vocab.txt:   0%|          | 0.00/255k [00:00<?, ?B/s]"
      ]
     },
     "metadata": {},
     "output_type": "display_data"
    },
    {
     "data": {
      "application/vnd.jupyter.widget-view+json": {
       "model_id": "21802cb582ec4ecd8f2db138a4eb4977",
       "version_major": 2,
       "version_minor": 0
      },
      "text/plain": [
       "tokenizer.json:   0%|          | 0.00/485k [00:00<?, ?B/s]"
      ]
     },
     "metadata": {},
     "output_type": "display_data"
    },
    {
     "name": "stderr",
     "output_type": "stream",
     "text": [
      "Token indices sequence length is longer than the specified maximum sequence length for this model (530 > 512). Running this sequence through the model will result in indexing errors\n"
     ]
    }
   ],
   "source": [
    "from transformers import AutoTokenizer\n",
    "\n",
    "tokenizer = AutoTokenizer.from_pretrained('bert-base-german-cased')\n",
    "MAX_SEQ_LEN = 256\n",
    "\n",
    "#with tf.device('/device:GPU:0'):\n",
    "\n",
    "sentences = train_df.full_text.values\n",
    "bert_train_input = bert_encode(sentences, tokenizer, MAX_SEQ_LEN)\n",
    "\n",
    "bert_train_output = train_df.totalRent.values\n",
    "\n",
    "sentences = test_df.full_text.values\n",
    "bert_test_input = bert_encode(sentences, tokenizer, MAX_SEQ_LEN)\n",
    "bert_test_output = test_df.totalRent.values\n",
    "\n",
    "bert_train_output = np.array(bert_train_output).reshape(len(bert_train_output),1)\n",
    "bert_test_output = np.array(bert_test_output).reshape(len(bert_test_output),1)\n",
    "\n",
    "bert_train_output = np.array(bert_train_output).reshape(len(bert_train_output),1)\n",
    "bert_test_output = np.array(bert_test_output).reshape(len(bert_test_output),1)\n",
    "output = np.concatenate((bert_train_output, bert_test_output))\n",
    "\n",
    "bert_train_output = output[:len(bert_train_input[0])]\n",
    "bert_test_output = output[-len(bert_test_input[0]):]\n",
    "\n",
    "other_features_train= K.constant(train_df_others)\n",
    "other_features_test= K.constant(test_df_others)"
   ]
  },
  {
   "cell_type": "markdown",
   "metadata": {
    "id": "3dXp6NuRe_DC"
   },
   "source": [
    "## Model Architecture"
   ]
  },
  {
   "cell_type": "code",
   "execution_count": 27,
   "metadata": {
    "id": "6OIn0clxj_DE"
   },
   "outputs": [],
   "source": [
    "def get_model():\n",
    "\n",
    "  input_word_ids = tf.keras.layers.Input(shape=(MAX_SEQ_LEN,), dtype=tf.int32,name=\"input_word_ids\")\n",
    "  input_mask = tf.keras.layers.Input(shape=(MAX_SEQ_LEN,), dtype=tf.int32,name=\"input_mask\")\n",
    "  segment_ids = tf.keras.layers.Input(shape=(MAX_SEQ_LEN,), dtype=tf.int32,name=\"segment_ids\")\n",
    "\n",
    "  custom_objects={'leaky_relu': tf.nn.leaky_relu}\n",
    "\n",
    "  pooled_output, sequence_output = bert_layer([input_word_ids, input_mask, segment_ids ])\n",
    "  clf_output = pooled_output\n",
    "\n",
    "\n",
    "  num_cat_inputs = tf.keras.layers.Input(shape=(other_features_train.shape[1],), dtype=tf.int32,name=\"other_features\")\n",
    "  X_a_encoded = Dense(64, activation= 'relu')(num_cat_inputs )\n",
    "\n",
    "\n",
    "\n",
    "  combined = tf.keras.layers.Concatenate(axis=1)([clf_output, X_a_encoded])\n",
    "\n",
    "  net = tf.keras.layers.Dense(128, activation=custom_objects['leaky_relu'])(combined)    #(clf_output)\n",
    "  net = tf.keras.layers.Dropout(0.1)(net)\n",
    "  net = tf.keras.layers.Flatten()(net)\n",
    "  out = tf.keras.layers.Dense(1, activation='leaky_relu')(net)\n",
    "\n",
    "  model = Model(inputs=[input_word_ids, input_mask, segment_ids, num_cat_inputs], outputs=out)\n",
    "  model.compile(optimizer=optimizers.Adam(learning_rate=0.1) , loss='mae',  metrics=['mae'])\n",
    "\n",
    "  return model"
   ]
  },
  {
   "cell_type": "code",
   "execution_count": 28,
   "metadata": {
    "colab": {
     "base_uri": "https://localhost:8080/"
    },
    "id": "rUvQS_kKj_IG",
    "outputId": "9878b7d2-7f42-46d3-d64d-7dcf081d5620"
   },
   "outputs": [
    {
     "name": "stdout",
     "output_type": "stream",
     "text": [
      "Model: \"model\"\n",
      "__________________________________________________________________________________________________\n",
      " Layer (type)                Output Shape                 Param #   Connected to                  \n",
      "==================================================================================================\n",
      " input_word_ids (InputLayer  [(None, 256)]                0         []                            \n",
      " )                                                                                                \n",
      "                                                                                                  \n",
      " input_mask (InputLayer)     [(None, 256)]                0         []                            \n",
      "                                                                                                  \n",
      " segment_ids (InputLayer)    [(None, 256)]                0         []                            \n",
      "                                                                                                  \n",
      " other_features (InputLayer  [(None, 36)]                 0         []                            \n",
      " )                                                                                                \n",
      "                                                                                                  \n",
      " keras_layer (KerasLayer)    [(None, 768),                1094822   ['input_word_ids[0][0]',      \n",
      "                              (None, 256, 768)]           41         'input_mask[0][0]',          \n",
      "                                                                     'segment_ids[0][0]']         \n",
      "                                                                                                  \n",
      " dense (Dense)               (None, 64)                   2368      ['other_features[0][0]']      \n",
      "                                                                                                  \n",
      " concatenate (Concatenate)   (None, 832)                  0         ['keras_layer[0][0]',         \n",
      "                                                                     'dense[0][0]']               \n",
      "                                                                                                  \n",
      " dense_1 (Dense)             (None, 128)                  106624    ['concatenate[0][0]']         \n",
      "                                                                                                  \n",
      " dropout (Dropout)           (None, 128)                  0         ['dense_1[0][0]']             \n",
      "                                                                                                  \n",
      " flatten (Flatten)           (None, 128)                  0         ['dropout[0][0]']             \n",
      "                                                                                                  \n",
      " dense_2 (Dense)             (None, 1)                    129       ['flatten[0][0]']             \n",
      "                                                                                                  \n",
      "==================================================================================================\n",
      "Total params: 109591362 (418.06 MB)\n",
      "Trainable params: 109121 (426.25 KB)\n",
      "Non-trainable params: 109482241 (417.64 MB)\n",
      "__________________________________________________________________________________________________\n"
     ]
    }
   ],
   "source": [
    "model = get_model()\n",
    "model.summary()"
   ]
  },
  {
   "cell_type": "markdown",
   "metadata": {
    "id": "x_AYmkdkfZbm"
   },
   "source": [
    "## Train"
   ]
  },
  {
   "cell_type": "code",
   "execution_count": 29,
   "metadata": {
    "colab": {
     "base_uri": "https://localhost:8080/"
    },
    "id": "7Au_XseKj_MG",
    "outputId": "42f72637-5b10-43db-fdff-ed6b3f4a7f77"
   },
   "outputs": [
    {
     "name": "stdout",
     "output_type": "stream",
     "text": [
      "Epoch 1/25\n",
      "17/17 [==============================] - 44s 2s/step - loss: 487.1848 - mae: 487.1848 - val_loss: 536.7952 - val_mae: 536.7952\n",
      "Epoch 2/25\n",
      "17/17 [==============================] - 24s 1s/step - loss: 362.8074 - mae: 362.8074 - val_loss: 263.5262 - val_mae: 263.5262\n",
      "Epoch 3/25\n",
      "17/17 [==============================] - 22s 1s/step - loss: 275.5899 - mae: 275.5899 - val_loss: 216.6926 - val_mae: 216.6926\n",
      "Epoch 4/25\n",
      "17/17 [==============================] - 12s 703ms/step - loss: 289.2279 - mae: 289.2279 - val_loss: 211.0539 - val_mae: 211.0539\n",
      "Epoch 5/25\n",
      "17/17 [==============================] - 22s 1s/step - loss: 239.7274 - mae: 239.7274 - val_loss: 181.1874 - val_mae: 181.1874\n",
      "Epoch 6/25\n",
      "17/17 [==============================] - 23s 1s/step - loss: 233.1629 - mae: 233.1629 - val_loss: 185.9429 - val_mae: 185.9429\n",
      "Epoch 7/25\n",
      "17/17 [==============================] - 22s 1s/step - loss: 223.4344 - mae: 223.4344 - val_loss: 181.1106 - val_mae: 181.1106\n",
      "Epoch 8/25\n",
      "17/17 [==============================] - 12s 734ms/step - loss: 224.5001 - mae: 224.5001 - val_loss: 180.7440 - val_mae: 180.7440\n",
      "Epoch 9/25\n",
      "17/17 [==============================] - 22s 1s/step - loss: 213.8031 - mae: 213.8031 - val_loss: 191.5498 - val_mae: 191.5498\n",
      "Epoch 10/25\n",
      "17/17 [==============================] - 12s 727ms/step - loss: 216.4223 - mae: 216.4223 - val_loss: 209.9568 - val_mae: 209.9568\n",
      "Epoch 11/25\n",
      "17/17 [==============================] - 12s 730ms/step - loss: 222.6721 - mae: 222.6721 - val_loss: 180.6293 - val_mae: 180.6293\n",
      "Epoch 12/25\n",
      "17/17 [==============================] - 12s 731ms/step - loss: 216.5829 - mae: 216.5829 - val_loss: 193.1507 - val_mae: 193.1507\n",
      "Epoch 13/25\n",
      "17/17 [==============================] - 12s 729ms/step - loss: 228.6579 - mae: 228.6579 - val_loss: 193.5249 - val_mae: 193.5249\n",
      "Epoch 14/25\n",
      "17/17 [==============================] - 12s 734ms/step - loss: 249.0727 - mae: 249.0727 - val_loss: 190.7238 - val_mae: 190.7238\n",
      "Epoch 15/25\n",
      "17/17 [==============================] - 12s 734ms/step - loss: 222.4520 - mae: 222.4520 - val_loss: 191.0794 - val_mae: 191.0794\n",
      "Epoch 16/25\n",
      "17/17 [==============================] - 23s 1s/step - loss: 200.5430 - mae: 200.5430 - val_loss: 225.3857 - val_mae: 225.3857\n",
      "Epoch 17/25\n",
      "17/17 [==============================] - 12s 728ms/step - loss: 211.5695 - mae: 211.5695 - val_loss: 194.5635 - val_mae: 194.5635\n",
      "Epoch 18/25\n",
      "17/17 [==============================] - 12s 736ms/step - loss: 209.2645 - mae: 209.2645 - val_loss: 186.0769 - val_mae: 186.0769\n",
      "Epoch 19/25\n",
      "17/17 [==============================] - 24s 1s/step - loss: 200.2076 - mae: 200.2076 - val_loss: 203.6636 - val_mae: 203.6636\n",
      "Epoch 20/25\n",
      "17/17 [==============================] - 12s 730ms/step - loss: 211.8458 - mae: 211.8458 - val_loss: 197.6315 - val_mae: 197.6315\n",
      "Epoch 21/25\n",
      "17/17 [==============================] - 12s 739ms/step - loss: 226.4036 - mae: 226.4036 - val_loss: 215.4506 - val_mae: 215.4506\n",
      "Epoch 22/25\n",
      "17/17 [==============================] - 12s 738ms/step - loss: 216.1149 - mae: 216.1149 - val_loss: 213.0856 - val_mae: 213.0856\n",
      "Epoch 23/25\n",
      "17/17 [==============================] - 12s 727ms/step - loss: 207.9051 - mae: 207.9051 - val_loss: 185.8532 - val_mae: 185.8532\n",
      "Epoch 24/25\n",
      "17/17 [==============================] - 12s 725ms/step - loss: 202.3632 - mae: 202.3632 - val_loss: 181.2646 - val_mae: 181.2646\n",
      "Epoch 25/25\n",
      "17/17 [==============================] - 22s 1s/step - loss: 197.1525 - mae: 197.1525 - val_loss: 191.3185 - val_mae: 191.3185\n"
     ]
    }
   ],
   "source": [
    "epochs = 25\n",
    "with tf.device('/device:GPU:0'):\n",
    "\n",
    "\n",
    "   checkpoint_filepath = 'Bert_results/CheckPoints/bert_checkpoint'\n",
    "   model_checkpoint_callback = tf.keras.callbacks.ModelCheckpoint(filepath=checkpoint_filepath,\n",
    "   save_weights_only=False,\n",
    "   monitor='loss',\n",
    "   mode='min',\n",
    "   save_best_only=True)\n",
    "\n",
    "   train_history = model.fit( [bert_train_input[0], bert_train_input[1],bert_train_input[2], train_df_others ], #input\n",
    "                              bert_train_output,#output\n",
    "                              epochs=epochs, #epochs\n",
    "                              verbose=1,\n",
    "                              validation_split = 0.2,\n",
    "                              callbacks=[model_checkpoint_callback]\n",
    "                          )\n",
    "   model_best = tf.keras.models.load_model(checkpoint_filepath)\n",
    "\n",
    "   loss_T = model_best.evaluate([bert_train_input[0], bert_train_input[1], bert_train_input[2], train_df_others ]\n",
    "                                        , bert_train_output, verbose=0)"
   ]
  },
  {
   "cell_type": "code",
   "execution_count": 30,
   "metadata": {
    "colab": {
     "base_uri": "https://localhost:8080/",
     "height": 881
    },
    "id": "Ygt5HSnKW6vH",
    "outputId": "66f6f36c-e159-4f6a-a832-00d282dec657"
   },
   "outputs": [
    {
     "data": {
      "image/png": "[encoded data removed]",
      "text/plain": [
       "<Figure size 1600x1000 with 1 Axes>"
      ]
     },
     "metadata": {},
     "output_type": "display_data"
    }
   ],
   "source": [
    "plt.plot(train_history.history['mae'])\n",
    "plt.plot(train_history.history['val_mae'])\n",
    "plt.title('model loss')\n",
    "plt.ylabel('MAE')\n",
    "plt.xlabel('epoch')\n",
    "plt.legend(['train', 'val'], loc='upper left')\n",
    "plt.show()"
   ]
  },
  {
   "cell_type": "markdown",
   "metadata": {
    "id": "-QFxdyClfdQh"
   },
   "source": [
    "## Test"
   ]
  },
  {
   "cell_type": "code",
   "execution_count": 31,
   "metadata": {
    "colab": {
     "base_uri": "https://localhost:8080/",
     "height": 739
    },
    "id": "pI8YQxr_Qk0k",
    "outputId": "f1608aa4-4c4a-4533-aadc-4d60741f475a"
   },
   "outputs": [
    {
     "name": "stdout",
     "output_type": "stream",
     "text": [
      "9/9 [==============================] - 7s 586ms/step\n",
      "Test MAE Errror:  [212.81613159179688, 212.81613159179688]\n"
     ]
    },
    {
     "data": {
      "image/png": "[encoded data removed]",
      "text/plain": [
       "<Figure size 1800x800 with 1 Axes>"
      ]
     },
     "metadata": {},
     "output_type": "display_data"
    }
   ],
   "source": [
    "test_loss = []\n",
    "import matplotlib.pyplot as plt\n",
    "plt.rcParams[\"figure.figsize\"] = (18,8)\n",
    "\n",
    "\n",
    "with tf.device('/device:GPU:0'):\n",
    "\n",
    "    checkpoint_filepath = 'Bert_results/CheckPoints/bert_checkpoint'\n",
    "    saved_model = tf.keras.models.load_model(  checkpoint_filepath, custom_objects=None, compile=True, options=None)\n",
    "\n",
    "    predicted = model.predict([bert_test_input, test_df_others])\n",
    "\n",
    "    loss_test = model.evaluate([bert_test_input[0],bert_test_input[1],bert_test_input[2], test_df_others]\n",
    "                                      , bert_test_output, verbose=0)\n",
    "\n",
    "    print(\"Test MAE Errror: \",loss_test )\n",
    "\n",
    "    test_loss.append(loss_test)\n",
    "\n",
    "    plt.plot(predicted[0:200], label = \"Predicted Values\")\n",
    "    plt.plot(bert_test_output[0:200], label = \"Actual Values\")\n",
    "    plt.xlabel('Test Samples')\n",
    "    plt.ylabel('Rental Values')\n",
    "    plt.legend()\n",
    "    plt.show()"
   ]
  },
  {
   "cell_type": "code",
   "execution_count": 32,
   "metadata": {
    "colab": {
     "base_uri": "https://localhost:8080/"
    },
    "id": "Pv79AJHCxChO",
    "outputId": "a91ebb31-ffa6-41e7-fe0d-978541ebe05f"
   },
   "outputs": [
    {
     "name": "stdout",
     "output_type": "stream",
     "text": [
      "MAE 212.81612584040715\n",
      "R2 0.259983048205949\n",
      "RMSE 273.481238297307\n",
      "RRMSE 0.27351599807747834\n"
     ]
    }
   ],
   "source": [
    "def relative_root_meansquared_error(y, pred) :\n",
    "    num = np.sum(np.square(y - pred))\n",
    "    den = np.sum(np.square(pred))\n",
    "    squared_error = num/den\n",
    "    rrmse_loss = np.sqrt(squared_error)\n",
    "    return rrmse_loss\n",
    "\n",
    "\n",
    "y_pred= predicted\n",
    "y_test= bert_test_output\n",
    "\n",
    "print('MAE', mean_absolute_error(y_test, y_pred))\n",
    "print( 'R2', r2_score(y_test, y_pred))\n",
    "print('RMSE', sqrt(mean_squared_error(y_test, y_pred)))\n",
    "print('RRMSE', relative_root_meansquared_error(y_test, y_pred))"
   ]
  },
  {
   "cell_type": "code",
   "execution_count": 33,
   "metadata": {
    "id": "kRTYWE7qU4ib"
   },
   "outputs": [],
   "source": [
    "model.save('BERT_Combined.keras')"
   ]
  },
  {
   "cell_type": "markdown",
   "metadata": {
    "id": "gzQ2KoUjfULa"
   },
   "source": [
    "✈"
   ]
  },
  {
   "cell_type": "code",
   "execution_count": 35,
   "metadata": {
    "id": "z6WrlHRxft8x"
   },
   "outputs": [],
   "source": [
    "#model_load = tf.keras.models.load_model('BERT_Combined.keras')"
   ]
  }
 ],
 "metadata": {
  "accelerator": "GPU",
  "colab": {
   "gpuType": "T4",
   "provenance": []
  },
  "kernelspec": {
   "display_name": "Python 3 (ipykernel)",
   "language": "python",
   "name": "python3"
  },
  "language_info": {
   "codemirror_mode": {
    "name": "ipython",
    "version": 3
   },
   "file_extension": ".py",
   "mimetype": "text/x-python",
   "name": "python",
   "nbconvert_exporter": "python",
   "pygments_lexer": "ipython3",
   "version": "3.8.10"
  },
  "widgets": {
   "application/vnd.jupyter.widget-state+json": {
    "02e599e507244dba956f70ae7867bb36": {
     "model_module": "@jupyter-widgets/controls",
     "model_module_version": "1.5.0",
     "model_name": "DescriptionStyleModel",
     "state": {
      "_model_module": "@jupyter-widgets/controls",
      "_model_module_version": "1.5.0",
      "_model_name": "DescriptionStyleModel",
      "_view_count": null,
      "_view_module": "@jupyter-widgets/base",
      "_view_module_version": "1.2.0",
      "_view_name": "StyleView",
      "description_width": ""
     }
    },
    "0df0012eac97424ba98d497e3967e7f9": {
     "model_module": "@jupyter-widgets/base",
     "model_module_version": "1.2.0",
     "model_name": "LayoutModel",
     "state": {
      "_model_module": "@jupyter-widgets/base",
      "_model_module_version": "1.2.0",
      "_model_name": "LayoutModel",
      "_view_count": null,
      "_view_module": "@jupyter-widgets/base",
      "_view_module_version": "1.2.0",
      "_view_name": "LayoutView",
      "align_content": null,
      "align_items": null,
      "align_self": null,
      "border": null,
      "bottom": null,
      "display": null,
      "flex": null,
      "flex_flow": null,
      "grid_area": null,
      "grid_auto_columns": null,
      "grid_auto_flow": null,
      "grid_auto_rows": null,
      "grid_column": null,
      "grid_gap": null,
      "grid_row": null,
      "grid_template_areas": null,
      "grid_template_columns": null,
      "grid_template_rows": null,
      "height": null,
      "justify_content": null,
      "justify_items": null,
      "left": null,
      "margin": null,
      "max_height": null,
      "max_width": null,
      "min_height": null,
      "min_width": null,
      "object_fit": null,
      "object_position": null,
      "order": null,
      "overflow": null,
      "overflow_x": null,
      "overflow_y": null,
      "padding": null,
      "right": null,
      "top": null,
      "visibility": null,
      "width": null
     }
    },
    "1008bb1197cd44ad9544c50ec8e3f26a": {
     "model_module": "@jupyter-widgets/controls",
     "model_module_version": "1.5.0",
     "model_name": "DescriptionStyleModel",
     "state": {
      "_model_module": "@jupyter-widgets/controls",
      "_model_module_version": "1.5.0",
      "_model_name": "DescriptionStyleModel",
      "_view_count": null,
      "_view_module": "@jupyter-widgets/base",
      "_view_module_version": "1.2.0",
      "_view_name": "StyleView",
      "description_width": ""
     }
    },
    "19b8332648454281b835b02db96bce03": {
     "model_module": "@jupyter-widgets/controls",
     "model_module_version": "1.5.0",
     "model_name": "DescriptionStyleModel",
     "state": {
      "_model_module": "@jupyter-widgets/controls",
      "_model_module_version": "1.5.0",
      "_model_name": "DescriptionStyleModel",
      "_view_count": null,
      "_view_module": "@jupyter-widgets/base",
      "_view_module_version": "1.2.0",
      "_view_name": "StyleView",
      "description_width": ""
     }
    },
    "1b095abbc6224271b920255f4737eff6": {
     "model_module": "@jupyter-widgets/base",
     "model_module_version": "1.2.0",
     "model_name": "LayoutModel",
     "state": {
      "_model_module": "@jupyter-widgets/base",
      "_model_module_version": "1.2.0",
      "_model_name": "LayoutModel",
      "_view_count": null,
      "_view_module": "@jupyter-widgets/base",
      "_view_module_version": "1.2.0",
      "_view_name": "LayoutView",
      "align_content": null,
      "align_items": null,
      "align_self": null,
      "border": null,
      "bottom": null,
      "display": null,
      "flex": null,
      "flex_flow": null,
      "grid_area": null,
      "grid_auto_columns": null,
      "grid_auto_flow": null,
      "grid_auto_rows": null,
      "grid_column": null,
      "grid_gap": null,
      "grid_row": null,
      "grid_template_areas": null,
      "grid_template_columns": null,
      "grid_template_rows": null,
      "height": null,
      "justify_content": null,
      "justify_items": null,
      "left": null,
      "margin": null,
      "max_height": null,
      "max_width": null,
      "min_height": null,
      "min_width": null,
      "object_fit": null,
      "object_position": null,
      "order": null,
      "overflow": null,
      "overflow_x": null,
      "overflow_y": null,
      "padding": null,
      "right": null,
      "top": null,
      "visibility": null,
      "width": null
     }
    },
    "21802cb582ec4ecd8f2db138a4eb4977": {
     "model_module": "@jupyter-widgets/controls",
     "model_module_version": "1.5.0",
     "model_name": "HBoxModel",
     "state": {
      "_dom_classes": [],
      "_model_module": "@jupyter-widgets/controls",
      "_model_module_version": "1.5.0",
      "_model_name": "HBoxModel",
      "_view_count": null,
      "_view_module": "@jupyter-widgets/controls",
      "_view_module_version": "1.5.0",
      "_view_name": "HBoxView",
      "box_style": "",
      "children": [
       "IPY_MODEL_e6cab4bb29654d62ad9216e0e02e7b76",
       "IPY_MODEL_9999a469621547d88d5fdddaad17b3f4",
       "IPY_MODEL_9eb50d6185a24e8e8216f95d6e754772"
      ],
      "layout": "IPY_MODEL_7fa13aa979294325886f146bcb0a7f67"
     }
    },
    "295546bf6a4e495faf96cc6be6fbb9c7": {
     "model_module": "@jupyter-widgets/controls",
     "model_module_version": "1.5.0",
     "model_name": "HBoxModel",
     "state": {
      "_dom_classes": [],
      "_model_module": "@jupyter-widgets/controls",
      "_model_module_version": "1.5.0",
      "_model_name": "HBoxModel",
      "_view_count": null,
      "_view_module": "@jupyter-widgets/controls",
      "_view_module_version": "1.5.0",
      "_view_name": "HBoxView",
      "box_style": "",
      "children": [
       "IPY_MODEL_e5767d7758b24dedaccb65a0dc9f2ae0",
       "IPY_MODEL_71176bd3d0144646a21d1d60ae00c3da",
       "IPY_MODEL_6a988a74fd1f4ea4b5780affab2e9186"
      ],
      "layout": "IPY_MODEL_5dea70933ba548e5b1268941673cacc0"
     }
    },
    "2b6c56d7c1ba45068c718048003ac26b": {
     "model_module": "@jupyter-widgets/controls",
     "model_module_version": "1.5.0",
     "model_name": "DescriptionStyleModel",
     "state": {
      "_model_module": "@jupyter-widgets/controls",
      "_model_module_version": "1.5.0",
      "_model_name": "DescriptionStyleModel",
      "_view_count": null,
      "_view_module": "@jupyter-widgets/base",
      "_view_module_version": "1.2.0",
      "_view_name": "StyleView",
      "description_width": ""
     }
    },
    "3d6a65d55080429483a44e41e663f996": {
     "model_module": "@jupyter-widgets/base",
     "model_module_version": "1.2.0",
     "model_name": "LayoutModel",
     "state": {
      "_model_module": "@jupyter-widgets/base",
      "_model_module_version": "1.2.0",
      "_model_name": "LayoutModel",
      "_view_count": null,
      "_view_module": "@jupyter-widgets/base",
      "_view_module_version": "1.2.0",
      "_view_name": "LayoutView",
      "align_content": null,
      "align_items": null,
      "align_self": null,
      "border": null,
      "bottom": null,
      "display": null,
      "flex": null,
      "flex_flow": null,
      "grid_area": null,
      "grid_auto_columns": null,
      "grid_auto_flow": null,
      "grid_auto_rows": null,
      "grid_column": null,
      "grid_gap": null,
      "grid_row": null,
      "grid_template_areas": null,
      "grid_template_columns": null,
      "grid_template_rows": null,
      "height": null,
      "justify_content": null,
      "justify_items": null,
      "left": null,
      "margin": null,
      "max_height": null,
      "max_width": null,
      "min_height": null,
      "min_width": null,
      "object_fit": null,
      "object_position": null,
      "order": null,
      "overflow": null,
      "overflow_x": null,
      "overflow_y": null,
      "padding": null,
      "right": null,
      "top": null,
      "visibility": null,
      "width": null
     }
    },
    "3eba9123761c467e8cf0afcff99f3962": {
     "model_module": "@jupyter-widgets/base",
     "model_module_version": "1.2.0",
     "model_name": "LayoutModel",
     "state": {
      "_model_module": "@jupyter-widgets/base",
      "_model_module_version": "1.2.0",
      "_model_name": "LayoutModel",
      "_view_count": null,
      "_view_module": "@jupyter-widgets/base",
      "_view_module_version": "1.2.0",
      "_view_name": "LayoutView",
      "align_content": null,
      "align_items": null,
      "align_self": null,
      "border": null,
      "bottom": null,
      "display": null,
      "flex": null,
      "flex_flow": null,
      "grid_area": null,
      "grid_auto_columns": null,
      "grid_auto_flow": null,
      "grid_auto_rows": null,
      "grid_column": null,
      "grid_gap": null,
      "grid_row": null,
      "grid_template_areas": null,
      "grid_template_columns": null,
      "grid_template_rows": null,
      "height": null,
      "justify_content": null,
      "justify_items": null,
      "left": null,
      "margin": null,
      "max_height": null,
      "max_width": null,
      "min_height": null,
      "min_width": null,
      "object_fit": null,
      "object_position": null,
      "order": null,
      "overflow": null,
      "overflow_x": null,
      "overflow_y": null,
      "padding": null,
      "right": null,
      "top": null,
      "visibility": null,
      "width": null
     }
    },
    "5dea70933ba548e5b1268941673cacc0": {
     "model_module": "@jupyter-widgets/base",
     "model_module_version": "1.2.0",
     "model_name": "LayoutModel",
     "state": {
      "_model_module": "@jupyter-widgets/base",
      "_model_module_version": "1.2.0",
      "_model_name": "LayoutModel",
      "_view_count": null,
      "_view_module": "@jupyter-widgets/base",
      "_view_module_version": "1.2.0",
      "_view_name": "LayoutView",
      "align_content": null,
      "align_items": null,
      "align_self": null,
      "border": null,
      "bottom": null,
      "display": null,
      "flex": null,
      "flex_flow": null,
      "grid_area": null,
      "grid_auto_columns": null,
      "grid_auto_flow": null,
      "grid_auto_rows": null,
      "grid_column": null,
      "grid_gap": null,
      "grid_row": null,
      "grid_template_areas": null,
      "grid_template_columns": null,
      "grid_template_rows": null,
      "height": null,
      "justify_content": null,
      "justify_items": null,
      "left": null,
      "margin": null,
      "max_height": null,
      "max_width": null,
      "min_height": null,
      "min_width": null,
      "object_fit": null,
      "object_position": null,
      "order": null,
      "overflow": null,
      "overflow_x": null,
      "overflow_y": null,
      "padding": null,
      "right": null,
      "top": null,
      "visibility": null,
      "width": null
     }
    },
    "608aa544e04e42258333ec20d2d9a911": {
     "model_module": "@jupyter-widgets/base",
     "model_module_version": "1.2.0",
     "model_name": "LayoutModel",
     "state": {
      "_model_module": "@jupyter-widgets/base",
      "_model_module_version": "1.2.0",
      "_model_name": "LayoutModel",
      "_view_count": null,
      "_view_module": "@jupyter-widgets/base",
      "_view_module_version": "1.2.0",
      "_view_name": "LayoutView",
      "align_content": null,
      "align_items": null,
      "align_self": null,
      "border": null,
      "bottom": null,
      "display": null,
      "flex": null,
      "flex_flow": null,
      "grid_area": null,
      "grid_auto_columns": null,
      "grid_auto_flow": null,
      "grid_auto_rows": null,
      "grid_column": null,
      "grid_gap": null,
      "grid_row": null,
      "grid_template_areas": null,
      "grid_template_columns": null,
      "grid_template_rows": null,
      "height": null,
      "justify_content": null,
      "justify_items": null,
      "left": null,
      "margin": null,
      "max_height": null,
      "max_width": null,
      "min_height": null,
      "min_width": null,
      "object_fit": null,
      "object_position": null,
      "order": null,
      "overflow": null,
      "overflow_x": null,
      "overflow_y": null,
      "padding": null,
      "right": null,
      "top": null,
      "visibility": null,
      "width": null
     }
    },
    "67b132597e5243f1bd523790c2c34687": {
     "model_module": "@jupyter-widgets/controls",
     "model_module_version": "1.5.0",
     "model_name": "DescriptionStyleModel",
     "state": {
      "_model_module": "@jupyter-widgets/controls",
      "_model_module_version": "1.5.0",
      "_model_name": "DescriptionStyleModel",
      "_view_count": null,
      "_view_module": "@jupyter-widgets/base",
      "_view_module_version": "1.2.0",
      "_view_name": "StyleView",
      "description_width": ""
     }
    },
    "6a988a74fd1f4ea4b5780affab2e9186": {
     "model_module": "@jupyter-widgets/controls",
     "model_module_version": "1.5.0",
     "model_name": "HTMLModel",
     "state": {
      "_dom_classes": [],
      "_model_module": "@jupyter-widgets/controls",
      "_model_module_version": "1.5.0",
      "_model_name": "HTMLModel",
      "_view_count": null,
      "_view_module": "@jupyter-widgets/controls",
      "_view_module_version": "1.5.0",
      "_view_name": "HTMLView",
      "description": "",
      "description_tooltip": null,
      "layout": "IPY_MODEL_f6534d0407034d469f22c7833e5c9beb",
      "placeholder": "​",
      "style": "IPY_MODEL_02e599e507244dba956f70ae7867bb36",
      "value": " 255k/255k [00:00&lt;00:00, 1.03MB/s]"
     }
    },
    "71176bd3d0144646a21d1d60ae00c3da": {
     "model_module": "@jupyter-widgets/controls",
     "model_module_version": "1.5.0",
     "model_name": "FloatProgressModel",
     "state": {
      "_dom_classes": [],
      "_model_module": "@jupyter-widgets/controls",
      "_model_module_version": "1.5.0",
      "_model_name": "FloatProgressModel",
      "_view_count": null,
      "_view_module": "@jupyter-widgets/controls",
      "_view_module_version": "1.5.0",
      "_view_name": "ProgressView",
      "bar_style": "success",
      "description": "",
      "description_tooltip": null,
      "layout": "IPY_MODEL_9d36dcf3eacc4956930910894fd8e095",
      "max": 254728,
      "min": 0,
      "orientation": "horizontal",
      "style": "IPY_MODEL_a511e0b9827a49a28d58f458e8e7a717",
      "value": 254728
     }
    },
    "746b1d374f464e23af007be5aba0aac4": {
     "model_module": "@jupyter-widgets/controls",
     "model_module_version": "1.5.0",
     "model_name": "HBoxModel",
     "state": {
      "_dom_classes": [],
      "_model_module": "@jupyter-widgets/controls",
      "_model_module_version": "1.5.0",
      "_model_name": "HBoxModel",
      "_view_count": null,
      "_view_module": "@jupyter-widgets/controls",
      "_view_module_version": "1.5.0",
      "_view_name": "HBoxView",
      "box_style": "",
      "children": [
       "IPY_MODEL_8db1edf969f248e48b5ebacca6b00685",
       "IPY_MODEL_9bfeec91ffaf41f8a4b79d59a8c70b34",
       "IPY_MODEL_bd15e5d3a6ca442da175b8722f1d689a"
      ],
      "layout": "IPY_MODEL_a45ac86da6b540fab89a91eb10d82178"
     }
    },
    "7fa13aa979294325886f146bcb0a7f67": {
     "model_module": "@jupyter-widgets/base",
     "model_module_version": "1.2.0",
     "model_name": "LayoutModel",
     "state": {
      "_model_module": "@jupyter-widgets/base",
      "_model_module_version": "1.2.0",
      "_model_name": "LayoutModel",
      "_view_count": null,
      "_view_module": "@jupyter-widgets/base",
      "_view_module_version": "1.2.0",
      "_view_name": "LayoutView",
      "align_content": null,
      "align_items": null,
      "align_self": null,
      "border": null,
      "bottom": null,
      "display": null,
      "flex": null,
      "flex_flow": null,
      "grid_area": null,
      "grid_auto_columns": null,
      "grid_auto_flow": null,
      "grid_auto_rows": null,
      "grid_column": null,
      "grid_gap": null,
      "grid_row": null,
      "grid_template_areas": null,
      "grid_template_columns": null,
      "grid_template_rows": null,
      "height": null,
      "justify_content": null,
      "justify_items": null,
      "left": null,
      "margin": null,
      "max_height": null,
      "max_width": null,
      "min_height": null,
      "min_width": null,
      "object_fit": null,
      "object_position": null,
      "order": null,
      "overflow": null,
      "overflow_x": null,
      "overflow_y": null,
      "padding": null,
      "right": null,
      "top": null,
      "visibility": null,
      "width": null
     }
    },
    "82cd299d368e42fe987f3625e036eec5": {
     "model_module": "@jupyter-widgets/base",
     "model_module_version": "1.2.0",
     "model_name": "LayoutModel",
     "state": {
      "_model_module": "@jupyter-widgets/base",
      "_model_module_version": "1.2.0",
      "_model_name": "LayoutModel",
      "_view_count": null,
      "_view_module": "@jupyter-widgets/base",
      "_view_module_version": "1.2.0",
      "_view_name": "LayoutView",
      "align_content": null,
      "align_items": null,
      "align_self": null,
      "border": null,
      "bottom": null,
      "display": null,
      "flex": null,
      "flex_flow": null,
      "grid_area": null,
      "grid_auto_columns": null,
      "grid_auto_flow": null,
      "grid_auto_rows": null,
      "grid_column": null,
      "grid_gap": null,
      "grid_row": null,
      "grid_template_areas": null,
      "grid_template_columns": null,
      "grid_template_rows": null,
      "height": null,
      "justify_content": null,
      "justify_items": null,
      "left": null,
      "margin": null,
      "max_height": null,
      "max_width": null,
      "min_height": null,
      "min_width": null,
      "object_fit": null,
      "object_position": null,
      "order": null,
      "overflow": null,
      "overflow_x": null,
      "overflow_y": null,
      "padding": null,
      "right": null,
      "top": null,
      "visibility": null,
      "width": null
     }
    },
    "84f7a41c2cd74e3597287b938642fa37": {
     "model_module": "@jupyter-widgets/controls",
     "model_module_version": "1.5.0",
     "model_name": "HTMLModel",
     "state": {
      "_dom_classes": [],
      "_model_module": "@jupyter-widgets/controls",
      "_model_module_version": "1.5.0",
      "_model_name": "HTMLModel",
      "_view_count": null,
      "_view_module": "@jupyter-widgets/controls",
      "_view_module_version": "1.5.0",
      "_view_name": "HTMLView",
      "description": "",
      "description_tooltip": null,
      "layout": "IPY_MODEL_b0a3bb18800141f1bbe9fa2c9c411c14",
      "placeholder": "​",
      "style": "IPY_MODEL_2b6c56d7c1ba45068c718048003ac26b",
      "value": "config.json: 100%"
     }
    },
    "87318f67a6744e07867d158b070f3d20": {
     "model_module": "@jupyter-widgets/controls",
     "model_module_version": "1.5.0",
     "model_name": "ProgressStyleModel",
     "state": {
      "_model_module": "@jupyter-widgets/controls",
      "_model_module_version": "1.5.0",
      "_model_name": "ProgressStyleModel",
      "_view_count": null,
      "_view_module": "@jupyter-widgets/base",
      "_view_module_version": "1.2.0",
      "_view_name": "StyleView",
      "bar_color": null,
      "description_width": ""
     }
    },
    "8db1edf969f248e48b5ebacca6b00685": {
     "model_module": "@jupyter-widgets/controls",
     "model_module_version": "1.5.0",
     "model_name": "HTMLModel",
     "state": {
      "_dom_classes": [],
      "_model_module": "@jupyter-widgets/controls",
      "_model_module_version": "1.5.0",
      "_model_name": "HTMLModel",
      "_view_count": null,
      "_view_module": "@jupyter-widgets/controls",
      "_view_module_version": "1.5.0",
      "_view_name": "HTMLView",
      "description": "",
      "description_tooltip": null,
      "layout": "IPY_MODEL_f652dbfb8f314b7e9d1289dfa7a77204",
      "placeholder": "​",
      "style": "IPY_MODEL_67b132597e5243f1bd523790c2c34687",
      "value": "tokenizer_config.json: 100%"
     }
    },
    "8ee86f795c64471ba24391d8a9746174": {
     "model_module": "@jupyter-widgets/controls",
     "model_module_version": "1.5.0",
     "model_name": "DescriptionStyleModel",
     "state": {
      "_model_module": "@jupyter-widgets/controls",
      "_model_module_version": "1.5.0",
      "_model_name": "DescriptionStyleModel",
      "_view_count": null,
      "_view_module": "@jupyter-widgets/base",
      "_view_module_version": "1.2.0",
      "_view_name": "StyleView",
      "description_width": ""
     }
    },
    "9999a469621547d88d5fdddaad17b3f4": {
     "model_module": "@jupyter-widgets/controls",
     "model_module_version": "1.5.0",
     "model_name": "FloatProgressModel",
     "state": {
      "_dom_classes": [],
      "_model_module": "@jupyter-widgets/controls",
      "_model_module_version": "1.5.0",
      "_model_name": "FloatProgressModel",
      "_view_count": null,
      "_view_module": "@jupyter-widgets/controls",
      "_view_module_version": "1.5.0",
      "_view_name": "ProgressView",
      "bar_style": "success",
      "description": "",
      "description_tooltip": null,
      "layout": "IPY_MODEL_1b095abbc6224271b920255f4737eff6",
      "max": 485115,
      "min": 0,
      "orientation": "horizontal",
      "style": "IPY_MODEL_87318f67a6744e07867d158b070f3d20",
      "value": 485115
     }
    },
    "9bfeec91ffaf41f8a4b79d59a8c70b34": {
     "model_module": "@jupyter-widgets/controls",
     "model_module_version": "1.5.0",
     "model_name": "FloatProgressModel",
     "state": {
      "_dom_classes": [],
      "_model_module": "@jupyter-widgets/controls",
      "_model_module_version": "1.5.0",
      "_model_name": "FloatProgressModel",
      "_view_count": null,
      "_view_module": "@jupyter-widgets/controls",
      "_view_module_version": "1.5.0",
      "_view_name": "ProgressView",
      "bar_style": "success",
      "description": "",
      "description_tooltip": null,
      "layout": "IPY_MODEL_3d6a65d55080429483a44e41e663f996",
      "max": 29,
      "min": 0,
      "orientation": "horizontal",
      "style": "IPY_MODEL_ce7c18ebe37249a6a695e08eda96b32f",
      "value": 29
     }
    },
    "9d36dcf3eacc4956930910894fd8e095": {
     "model_module": "@jupyter-widgets/base",
     "model_module_version": "1.2.0",
     "model_name": "LayoutModel",
     "state": {
      "_model_module": "@jupyter-widgets/base",
      "_model_module_version": "1.2.0",
      "_model_name": "LayoutModel",
      "_view_count": null,
      "_view_module": "@jupyter-widgets/base",
      "_view_module_version": "1.2.0",
      "_view_name": "LayoutView",
      "align_content": null,
      "align_items": null,
      "align_self": null,
      "border": null,
      "bottom": null,
      "display": null,
      "flex": null,
      "flex_flow": null,
      "grid_area": null,
      "grid_auto_columns": null,
      "grid_auto_flow": null,
      "grid_auto_rows": null,
      "grid_column": null,
      "grid_gap": null,
      "grid_row": null,
      "grid_template_areas": null,
      "grid_template_columns": null,
      "grid_template_rows": null,
      "height": null,
      "justify_content": null,
      "justify_items": null,
      "left": null,
      "margin": null,
      "max_height": null,
      "max_width": null,
      "min_height": null,
      "min_width": null,
      "object_fit": null,
      "object_position": null,
      "order": null,
      "overflow": null,
      "overflow_x": null,
      "overflow_y": null,
      "padding": null,
      "right": null,
      "top": null,
      "visibility": null,
      "width": null
     }
    },
    "9eb50d6185a24e8e8216f95d6e754772": {
     "model_module": "@jupyter-widgets/controls",
     "model_module_version": "1.5.0",
     "model_name": "HTMLModel",
     "state": {
      "_dom_classes": [],
      "_model_module": "@jupyter-widgets/controls",
      "_model_module_version": "1.5.0",
      "_model_name": "HTMLModel",
      "_view_count": null,
      "_view_module": "@jupyter-widgets/controls",
      "_view_module_version": "1.5.0",
      "_view_name": "HTMLView",
      "description": "",
      "description_tooltip": null,
      "layout": "IPY_MODEL_e63cc73ba25942d784eeba758df37162",
      "placeholder": "​",
      "style": "IPY_MODEL_efe2cc2363df45f2bba6005e92b66123",
      "value": " 485k/485k [00:00&lt;00:00, 1.95MB/s]"
     }
    },
    "a223b253cffe41aea6776228627da37e": {
     "model_module": "@jupyter-widgets/base",
     "model_module_version": "1.2.0",
     "model_name": "LayoutModel",
     "state": {
      "_model_module": "@jupyter-widgets/base",
      "_model_module_version": "1.2.0",
      "_model_name": "LayoutModel",
      "_view_count": null,
      "_view_module": "@jupyter-widgets/base",
      "_view_module_version": "1.2.0",
      "_view_name": "LayoutView",
      "align_content": null,
      "align_items": null,
      "align_self": null,
      "border": null,
      "bottom": null,
      "display": null,
      "flex": null,
      "flex_flow": null,
      "grid_area": null,
      "grid_auto_columns": null,
      "grid_auto_flow": null,
      "grid_auto_rows": null,
      "grid_column": null,
      "grid_gap": null,
      "grid_row": null,
      "grid_template_areas": null,
      "grid_template_columns": null,
      "grid_template_rows": null,
      "height": null,
      "justify_content": null,
      "justify_items": null,
      "left": null,
      "margin": null,
      "max_height": null,
      "max_width": null,
      "min_height": null,
      "min_width": null,
      "object_fit": null,
      "object_position": null,
      "order": null,
      "overflow": null,
      "overflow_x": null,
      "overflow_y": null,
      "padding": null,
      "right": null,
      "top": null,
      "visibility": null,
      "width": null
     }
    },
    "a45ac86da6b540fab89a91eb10d82178": {
     "model_module": "@jupyter-widgets/base",
     "model_module_version": "1.2.0",
     "model_name": "LayoutModel",
     "state": {
      "_model_module": "@jupyter-widgets/base",
      "_model_module_version": "1.2.0",
      "_model_name": "LayoutModel",
      "_view_count": null,
      "_view_module": "@jupyter-widgets/base",
      "_view_module_version": "1.2.0",
      "_view_name": "LayoutView",
      "align_content": null,
      "align_items": null,
      "align_self": null,
      "border": null,
      "bottom": null,
      "display": null,
      "flex": null,
      "flex_flow": null,
      "grid_area": null,
      "grid_auto_columns": null,
      "grid_auto_flow": null,
      "grid_auto_rows": null,
      "grid_column": null,
      "grid_gap": null,
      "grid_row": null,
      "grid_template_areas": null,
      "grid_template_columns": null,
      "grid_template_rows": null,
      "height": null,
      "justify_content": null,
      "justify_items": null,
      "left": null,
      "margin": null,
      "max_height": null,
      "max_width": null,
      "min_height": null,
      "min_width": null,
      "object_fit": null,
      "object_position": null,
      "order": null,
      "overflow": null,
      "overflow_x": null,
      "overflow_y": null,
      "padding": null,
      "right": null,
      "top": null,
      "visibility": null,
      "width": null
     }
    },
    "a511e0b9827a49a28d58f458e8e7a717": {
     "model_module": "@jupyter-widgets/controls",
     "model_module_version": "1.5.0",
     "model_name": "ProgressStyleModel",
     "state": {
      "_model_module": "@jupyter-widgets/controls",
      "_model_module_version": "1.5.0",
      "_model_name": "ProgressStyleModel",
      "_view_count": null,
      "_view_module": "@jupyter-widgets/base",
      "_view_module_version": "1.2.0",
      "_view_name": "StyleView",
      "bar_color": null,
      "description_width": ""
     }
    },
    "b0a3bb18800141f1bbe9fa2c9c411c14": {
     "model_module": "@jupyter-widgets/base",
     "model_module_version": "1.2.0",
     "model_name": "LayoutModel",
     "state": {
      "_model_module": "@jupyter-widgets/base",
      "_model_module_version": "1.2.0",
      "_model_name": "LayoutModel",
      "_view_count": null,
      "_view_module": "@jupyter-widgets/base",
      "_view_module_version": "1.2.0",
      "_view_name": "LayoutView",
      "align_content": null,
      "align_items": null,
      "align_self": null,
      "border": null,
      "bottom": null,
      "display": null,
      "flex": null,
      "flex_flow": null,
      "grid_area": null,
      "grid_auto_columns": null,
      "grid_auto_flow": null,
      "grid_auto_rows": null,
      "grid_column": null,
      "grid_gap": null,
      "grid_row": null,
      "grid_template_areas": null,
      "grid_template_columns": null,
      "grid_template_rows": null,
      "height": null,
      "justify_content": null,
      "justify_items": null,
      "left": null,
      "margin": null,
      "max_height": null,
      "max_width": null,
      "min_height": null,
      "min_width": null,
      "object_fit": null,
      "object_position": null,
      "order": null,
      "overflow": null,
      "overflow_x": null,
      "overflow_y": null,
      "padding": null,
      "right": null,
      "top": null,
      "visibility": null,
      "width": null
     }
    },
    "bd15e5d3a6ca442da175b8722f1d689a": {
     "model_module": "@jupyter-widgets/controls",
     "model_module_version": "1.5.0",
     "model_name": "HTMLModel",
     "state": {
      "_dom_classes": [],
      "_model_module": "@jupyter-widgets/controls",
      "_model_module_version": "1.5.0",
      "_model_name": "HTMLModel",
      "_view_count": null,
      "_view_module": "@jupyter-widgets/controls",
      "_view_module_version": "1.5.0",
      "_view_name": "HTMLView",
      "description": "",
      "description_tooltip": null,
      "layout": "IPY_MODEL_3eba9123761c467e8cf0afcff99f3962",
      "placeholder": "​",
      "style": "IPY_MODEL_e8980d49369744c28939e2863fba91ee",
      "value": " 29.0/29.0 [00:00&lt;00:00, 2.02kB/s]"
     }
    },
    "ce7c18ebe37249a6a695e08eda96b32f": {
     "model_module": "@jupyter-widgets/controls",
     "model_module_version": "1.5.0",
     "model_name": "ProgressStyleModel",
     "state": {
      "_model_module": "@jupyter-widgets/controls",
      "_model_module_version": "1.5.0",
      "_model_name": "ProgressStyleModel",
      "_view_count": null,
      "_view_module": "@jupyter-widgets/base",
      "_view_module_version": "1.2.0",
      "_view_name": "StyleView",
      "bar_color": null,
      "description_width": ""
     }
    },
    "d4fc74872e31499cb6a015615aa15bd9": {
     "model_module": "@jupyter-widgets/base",
     "model_module_version": "1.2.0",
     "model_name": "LayoutModel",
     "state": {
      "_model_module": "@jupyter-widgets/base",
      "_model_module_version": "1.2.0",
      "_model_name": "LayoutModel",
      "_view_count": null,
      "_view_module": "@jupyter-widgets/base",
      "_view_module_version": "1.2.0",
      "_view_name": "LayoutView",
      "align_content": null,
      "align_items": null,
      "align_self": null,
      "border": null,
      "bottom": null,
      "display": null,
      "flex": null,
      "flex_flow": null,
      "grid_area": null,
      "grid_auto_columns": null,
      "grid_auto_flow": null,
      "grid_auto_rows": null,
      "grid_column": null,
      "grid_gap": null,
      "grid_row": null,
      "grid_template_areas": null,
      "grid_template_columns": null,
      "grid_template_rows": null,
      "height": null,
      "justify_content": null,
      "justify_items": null,
      "left": null,
      "margin": null,
      "max_height": null,
      "max_width": null,
      "min_height": null,
      "min_width": null,
      "object_fit": null,
      "object_position": null,
      "order": null,
      "overflow": null,
      "overflow_x": null,
      "overflow_y": null,
      "padding": null,
      "right": null,
      "top": null,
      "visibility": null,
      "width": null
     }
    },
    "dfe61aa28a6c4b0c9850890c960d2ad3": {
     "model_module": "@jupyter-widgets/controls",
     "model_module_version": "1.5.0",
     "model_name": "ProgressStyleModel",
     "state": {
      "_model_module": "@jupyter-widgets/controls",
      "_model_module_version": "1.5.0",
      "_model_name": "ProgressStyleModel",
      "_view_count": null,
      "_view_module": "@jupyter-widgets/base",
      "_view_module_version": "1.2.0",
      "_view_name": "StyleView",
      "bar_color": null,
      "description_width": ""
     }
    },
    "e5767d7758b24dedaccb65a0dc9f2ae0": {
     "model_module": "@jupyter-widgets/controls",
     "model_module_version": "1.5.0",
     "model_name": "HTMLModel",
     "state": {
      "_dom_classes": [],
      "_model_module": "@jupyter-widgets/controls",
      "_model_module_version": "1.5.0",
      "_model_name": "HTMLModel",
      "_view_count": null,
      "_view_module": "@jupyter-widgets/controls",
      "_view_module_version": "1.5.0",
      "_view_name": "HTMLView",
      "description": "",
      "description_tooltip": null,
      "layout": "IPY_MODEL_d4fc74872e31499cb6a015615aa15bd9",
      "placeholder": "​",
      "style": "IPY_MODEL_19b8332648454281b835b02db96bce03",
      "value": "vocab.txt: 100%"
     }
    },
    "e63cc73ba25942d784eeba758df37162": {
     "model_module": "@jupyter-widgets/base",
     "model_module_version": "1.2.0",
     "model_name": "LayoutModel",
     "state": {
      "_model_module": "@jupyter-widgets/base",
      "_model_module_version": "1.2.0",
      "_model_name": "LayoutModel",
      "_view_count": null,
      "_view_module": "@jupyter-widgets/base",
      "_view_module_version": "1.2.0",
      "_view_name": "LayoutView",
      "align_content": null,
      "align_items": null,
      "align_self": null,
      "border": null,
      "bottom": null,
      "display": null,
      "flex": null,
      "flex_flow": null,
      "grid_area": null,
      "grid_auto_columns": null,
      "grid_auto_flow": null,
      "grid_auto_rows": null,
      "grid_column": null,
      "grid_gap": null,
      "grid_row": null,
      "grid_template_areas": null,
      "grid_template_columns": null,
      "grid_template_rows": null,
      "height": null,
      "justify_content": null,
      "justify_items": null,
      "left": null,
      "margin": null,
      "max_height": null,
      "max_width": null,
      "min_height": null,
      "min_width": null,
      "object_fit": null,
      "object_position": null,
      "order": null,
      "overflow": null,
      "overflow_x": null,
      "overflow_y": null,
      "padding": null,
      "right": null,
      "top": null,
      "visibility": null,
      "width": null
     }
    },
    "e6cab4bb29654d62ad9216e0e02e7b76": {
     "model_module": "@jupyter-widgets/controls",
     "model_module_version": "1.5.0",
     "model_name": "HTMLModel",
     "state": {
      "_dom_classes": [],
      "_model_module": "@jupyter-widgets/controls",
      "_model_module_version": "1.5.0",
      "_model_name": "HTMLModel",
      "_view_count": null,
      "_view_module": "@jupyter-widgets/controls",
      "_view_module_version": "1.5.0",
      "_view_name": "HTMLView",
      "description": "",
      "description_tooltip": null,
      "layout": "IPY_MODEL_a223b253cffe41aea6776228627da37e",
      "placeholder": "​",
      "style": "IPY_MODEL_8ee86f795c64471ba24391d8a9746174",
      "value": "tokenizer.json: 100%"
     }
    },
    "e8980d49369744c28939e2863fba91ee": {
     "model_module": "@jupyter-widgets/controls",
     "model_module_version": "1.5.0",
     "model_name": "DescriptionStyleModel",
     "state": {
      "_model_module": "@jupyter-widgets/controls",
      "_model_module_version": "1.5.0",
      "_model_name": "DescriptionStyleModel",
      "_view_count": null,
      "_view_module": "@jupyter-widgets/base",
      "_view_module_version": "1.2.0",
      "_view_name": "StyleView",
      "description_width": ""
     }
    },
    "e98736c650744616abfcc74b4d01fc45": {
     "model_module": "@jupyter-widgets/controls",
     "model_module_version": "1.5.0",
     "model_name": "FloatProgressModel",
     "state": {
      "_dom_classes": [],
      "_model_module": "@jupyter-widgets/controls",
      "_model_module_version": "1.5.0",
      "_model_name": "FloatProgressModel",
      "_view_count": null,
      "_view_module": "@jupyter-widgets/controls",
      "_view_module_version": "1.5.0",
      "_view_name": "ProgressView",
      "bar_style": "success",
      "description": "",
      "description_tooltip": null,
      "layout": "IPY_MODEL_0df0012eac97424ba98d497e3967e7f9",
      "max": 433,
      "min": 0,
      "orientation": "horizontal",
      "style": "IPY_MODEL_dfe61aa28a6c4b0c9850890c960d2ad3",
      "value": 433
     }
    },
    "efe2cc2363df45f2bba6005e92b66123": {
     "model_module": "@jupyter-widgets/controls",
     "model_module_version": "1.5.0",
     "model_name": "DescriptionStyleModel",
     "state": {
      "_model_module": "@jupyter-widgets/controls",
      "_model_module_version": "1.5.0",
      "_model_name": "DescriptionStyleModel",
      "_view_count": null,
      "_view_module": "@jupyter-widgets/base",
      "_view_module_version": "1.2.0",
      "_view_name": "StyleView",
      "description_width": ""
     }
    },
    "f0b9ee50f81e4bb590497a8d9440b23e": {
     "model_module": "@jupyter-widgets/controls",
     "model_module_version": "1.5.0",
     "model_name": "HBoxModel",
     "state": {
      "_dom_classes": [],
      "_model_module": "@jupyter-widgets/controls",
      "_model_module_version": "1.5.0",
      "_model_name": "HBoxModel",
      "_view_count": null,
      "_view_module": "@jupyter-widgets/controls",
      "_view_module_version": "1.5.0",
      "_view_name": "HBoxView",
      "box_style": "",
      "children": [
       "IPY_MODEL_84f7a41c2cd74e3597287b938642fa37",
       "IPY_MODEL_e98736c650744616abfcc74b4d01fc45",
       "IPY_MODEL_f425ba108c80409c8ba8690d25e9483b"
      ],
      "layout": "IPY_MODEL_82cd299d368e42fe987f3625e036eec5"
     }
    },
    "f425ba108c80409c8ba8690d25e9483b": {
     "model_module": "@jupyter-widgets/controls",
     "model_module_version": "1.5.0",
     "model_name": "HTMLModel",
     "state": {
      "_dom_classes": [],
      "_model_module": "@jupyter-widgets/controls",
      "_model_module_version": "1.5.0",
      "_model_name": "HTMLModel",
      "_view_count": null,
      "_view_module": "@jupyter-widgets/controls",
      "_view_module_version": "1.5.0",
      "_view_name": "HTMLView",
      "description": "",
      "description_tooltip": null,
      "layout": "IPY_MODEL_608aa544e04e42258333ec20d2d9a911",
      "placeholder": "​",
      "style": "IPY_MODEL_1008bb1197cd44ad9544c50ec8e3f26a",
      "value": " 433/433 [00:00&lt;00:00, 30.7kB/s]"
     }
    },
    "f652dbfb8f314b7e9d1289dfa7a77204": {
     "model_module": "@jupyter-widgets/base",
     "model_module_version": "1.2.0",
     "model_name": "LayoutModel",
     "state": {
      "_model_module": "@jupyter-widgets/base",
      "_model_module_version": "1.2.0",
      "_model_name": "LayoutModel",
      "_view_count": null,
      "_view_module": "@jupyter-widgets/base",
      "_view_module_version": "1.2.0",
      "_view_name": "LayoutView",
      "align_content": null,
      "align_items": null,
      "align_self": null,
      "border": null,
      "bottom": null,
      "display": null,
      "flex": null,
      "flex_flow": null,
      "grid_area": null,
      "grid_auto_columns": null,
      "grid_auto_flow": null,
      "grid_auto_rows": null,
      "grid_column": null,
      "grid_gap": null,
      "grid_row": null,
      "grid_template_areas": null,
      "grid_template_columns": null,
      "grid_template_rows": null,
      "height": null,
      "justify_content": null,
      "justify_items": null,
      "left": null,
      "margin": null,
      "max_height": null,
      "max_width": null,
      "min_height": null,
      "min_width": null,
      "object_fit": null,
      "object_position": null,
      "order": null,
      "overflow": null,
      "overflow_x": null,
      "overflow_y": null,
      "padding": null,
      "right": null,
      "top": null,
      "visibility": null,
      "width": null
     }
    },
    "f6534d0407034d469f22c7833e5c9beb": {
     "model_module": "@jupyter-widgets/base",
     "model_module_version": "1.2.0",
     "model_name": "LayoutModel",
     "state": {
      "_model_module": "@jupyter-widgets/base",
      "_model_module_version": "1.2.0",
      "_model_name": "LayoutModel",
      "_view_count": null,
      "_view_module": "@jupyter-widgets/base",
      "_view_module_version": "1.2.0",
      "_view_name": "LayoutView",
      "align_content": null,
      "align_items": null,
      "align_self": null,
      "border": null,
      "bottom": null,
      "display": null,
      "flex": null,
      "flex_flow": null,
      "grid_area": null,
      "grid_auto_columns": null,
      "grid_auto_flow": null,
      "grid_auto_rows": null,
      "grid_column": null,
      "grid_gap": null,
      "grid_row": null,
      "grid_template_areas": null,
      "grid_template_columns": null,
      "grid_template_rows": null,
      "height": null,
      "justify_content": null,
      "justify_items": null,
      "left": null,
      "margin": null,
      "max_height": null,
      "max_width": null,
      "min_height": null,
      "min_width": null,
      "object_fit": null,
      "object_position": null,
      "order": null,
      "overflow": null,
      "overflow_x": null,
      "overflow_y": null,
      "padding": null,
      "right": null,
      "top": null,
      "visibility": null,
      "width": null
     }
    }
   }
  }
 },
 "nbformat": 4,
 "nbformat_minor": 4
}
